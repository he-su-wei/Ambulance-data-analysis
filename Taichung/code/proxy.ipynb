{
 "cells": [
  {
   "attachments": {},
   "cell_type": "markdown",
   "metadata": {},
   "source": [
    "#### 找尋代理 IP Address "
   ]
  },
  {
   "cell_type": "code",
   "execution_count": 2,
   "metadata": {},
   "outputs": [],
   "source": [
    "import requests\n",
    "import json\n",
    "api_res = requests.get('https://proxylist.geonode.com/api/proxy-list')"
   ]
  },
  {
   "cell_type": "code",
   "execution_count": 1,
   "metadata": {},
   "outputs": [],
   "source": [
    "validips = []"
   ]
  },
  {
   "cell_type": "code",
   "execution_count": 4,
   "metadata": {},
   "outputs": [
    {
     "name": "stdout",
     "output_type": "stream",
     "text": [
      "173.244.200.156:64631\n",
      "FAIL 173.244.200.156:64631\n",
      "62.109.31.192:20000\n",
      "FAIL 62.109.31.192:20000\n",
      "173.244.200.154:44302\n",
      "FAIL 173.244.200.154:44302\n",
      "161.97.88.197:18722\n",
      "FAIL 161.97.88.197:18722\n",
      "140.250.147.114:1080\n",
      "FAIL 140.250.147.114:1080\n",
      "178.212.52.198:1080\n",
      "FAIL 178.212.52.198:1080\n",
      "187.86.129.122:63253\n",
      "FAIL 187.86.129.122:63253\n",
      "123.234.46.51:4153\n",
      "FAIL 123.234.46.51:4153\n",
      "177.72.112.161:31164\n",
      "FAIL 177.72.112.161:31164\n",
      "80.58.149.246:4145\n",
      "FAIL 80.58.149.246:4145\n",
      "103.51.46.6:4145\n",
      "FAIL 103.51.46.6:4145\n",
      "195.222.107.85:4153\n",
      "FAIL 195.222.107.85:4153\n",
      "50.96.204.3:18351\n",
      "FAIL 50.96.204.3:18351\n",
      "103.205.130.94:4145\n",
      "FAIL 103.205.130.94:4145\n",
      "80.25.87.49:57082\n",
      "FAIL 80.25.87.49:57082\n",
      "190.120.249.129:4145\n",
      "FAIL 190.120.249.129:4145\n",
      "213.232.127.200:8085\n",
      "FAIL 213.232.127.200:8085\n",
      "221.224.140.140:51080\n",
      "FAIL 221.224.140.140:51080\n",
      "103.119.55.155:8080\n",
      "FAIL 103.119.55.155:8080\n",
      "141.164.36.205:54301\n",
      "FAIL 141.164.36.205:54301\n",
      "167.179.113.181:52333\n",
      "FAIL 167.179.113.181:52333\n",
      "198.24.187.93:8001\n",
      "FAIL 198.24.187.93:8001\n",
      "152.69.221.55:10114\n",
      "FAIL 152.69.221.55:10114\n",
      "38.127.173.131:12697\n",
      "FAIL 38.127.173.131:12697\n",
      "51.91.21.129:29119\n",
      "FAIL 51.91.21.129:29119\n",
      "176.221.68.150:808\n",
      "FAIL 176.221.68.150:808\n",
      "168.205.217.78:4145\n",
      "FAIL 168.205.217.78:4145\n",
      "188.40.94.107:30214\n",
      "FAIL 188.40.94.107:30214\n",
      "143.244.149.59:35887\n",
      "FAIL 143.244.149.59:35887\n",
      "45.7.177.253:39867\n",
      "FAIL 45.7.177.253:39867\n",
      "103.115.255.161:36331\n",
      "FAIL 103.115.255.161:36331\n",
      "170.233.148.2:4153\n",
      "FAIL 170.233.148.2:4153\n",
      "103.210.29.113:31433\n",
      "FAIL 103.210.29.113:31433\n",
      "176.58.20.226:4153\n",
      "FAIL 176.58.20.226:4153\n",
      "187.85.158.137:5678\n",
      "FAIL 187.85.158.137:5678\n",
      "191.7.208.103:31576\n",
      "FAIL 191.7.208.103:31576\n",
      "181.209.106.187:1080\n",
      "FAIL 181.209.106.187:1080\n",
      "106.14.243.103:51746\n",
      "FAIL 106.14.243.103:51746\n",
      "138.36.150.12:1080\n",
      "FAIL 138.36.150.12:1080\n",
      "129.226.92.230:443\n",
      "FAIL 129.226.92.230:443\n",
      "110.34.166.183:4153\n",
      "FAIL 110.34.166.183:4153\n",
      "179.107.51.4:4145\n",
      "FAIL 179.107.51.4:4145\n",
      "185.78.16.76:5678\n",
      "FAIL 185.78.16.76:5678\n",
      "129.226.90.16:443\n",
      "FAIL 129.226.90.16:443\n",
      "203.34.28.99:80\n",
      "FAIL 203.34.28.99:80\n",
      "66.94.111.80:9999\n",
      "FAIL 66.94.111.80:9999\n",
      "1.179.147.5:52210\n",
      "FAIL 1.179.147.5:52210\n",
      "47.243.31.48:1088\n",
      "FAIL 47.243.31.48:1088\n",
      "185.132.1.221:4145\n",
      "FAIL 185.132.1.221:4145\n",
      "96.70.52.227:48324\n",
      "FAIL 96.70.52.227:48324\n"
     ]
    }
   ],
   "source": [
    "data = api_res.text\n",
    "jsonData = json.loads(data)\n",
    "ipDetail = jsonData['data']\n",
    "for ip in ipDetail:\n",
    "    get_ip = ip['ip'] + ':' + ip['port']\n",
    "    print(get_ip)\n",
    "    try:\n",
    "        res = requests.get('https://api.ipify.org?format=json', proxies = {'http':get_ip, 'https': get_ip}, timeout = 5  )\n",
    "        validips.append({'ip':get_ip})\n",
    "        print(res.json())\n",
    "    except:\n",
    "        print('FAIL', get_ip)\n"
   ]
  },
  {
   "attachments": {},
   "cell_type": "markdown",
   "metadata": {},
   "source": [
    "##### 網頁2"
   ]
  },
  {
   "cell_type": "code",
   "execution_count": 1,
   "metadata": {},
   "outputs": [],
   "source": [
    "import requests\n",
    "res = requests.get('https://free-proxy-list.net/')"
   ]
  },
  {
   "attachments": {},
   "cell_type": "markdown",
   "metadata": {},
   "source": [
    "###### 從網頁撈出相對應的IP格式"
   ]
  },
  {
   "cell_type": "code",
   "execution_count": 2,
   "metadata": {},
   "outputs": [],
   "source": [
    "import re\n",
    "suop = re.findall('\\d+\\.\\d+\\.\\d+\\.\\d+:\\d+', res.text)"
   ]
  },
  {
   "cell_type": "code",
   "execution_count": 3,
   "metadata": {},
   "outputs": [
    {
     "name": "stdout",
     "output_type": "stream",
     "text": [
      "FAIL 115.144.102.39:10080\n",
      "FAIL 40.119.236.22:80\n",
      "FAIL 8.219.43.134:9091\n",
      "FAIL 103.155.217.156:41483\n",
      "FAIL 47.253.71.33:1234\n",
      "FAIL 138.68.235.51:80\n",
      "FAIL 196.20.125.157:8083\n",
      "FAIL 219.68.43.251:80\n",
      "FAIL 188.166.56.246:80\n",
      "FAIL 103.146.17.241:80\n",
      "FAIL 197.243.67.96:80\n",
      "FAIL 43.224.10.46:6666\n",
      "FAIL 47.74.152.29:8888\n",
      "FAIL 43.255.113.232:8084\n",
      "FAIL 81.95.235.162:3128\n",
      "FAIL 178.128.149.142:80\n",
      "FAIL 58.27.59.249:80\n"
     ]
    }
   ],
   "source": [
    "for ip in suop:\n",
    "    try:\n",
    "        res = requests.get('https://api.ipify.org?format=json', proxies = {'http':ip, 'https': ip}, timeout = 5  )\n",
    "        validips.append({'ip':ip})\n",
    "        print(res.json())\n",
    "    except:\n",
    "        print('FAIL', ip)\n",
    "\n",
    "print(len(validips))\n"
   ]
  },
  {
   "attachments": {},
   "cell_type": "markdown",
   "metadata": {},
   "source": [
    "###### 將可用的 IP 儲存起來"
   ]
  },
  {
   "cell_type": "code",
   "execution_count": 12,
   "metadata": {},
   "outputs": [
    {
     "name": "stdout",
     "output_type": "stream",
     "text": [
      "[{'ip': '40.76.245.70:8080'}, {'ip': '65.21.61.55:80'}, {'ip': '204.2.218.145:8080'}, {'ip': '200.105.215.22:33630'}, {'ip': '113.53.231.133:3129'}, {'ip': '150.109.12.63:8999'}, {'ip': '80.253.246.15:8181'}, {'ip': '158.160.56.149:8080'}, {'ip': '196.179.196.18:8080'}, {'ip': '140.238.1.77:8080'}, {'ip': '40.119.236.22:80'}, {'ip': '34.125.223.255:8585'}, {'ip': '157.245.27.9:3128'}, {'ip': '45.64.122.210:47552'}, {'ip': '191.5.0.69:3128'}, {'ip': '103.106.219.141:8080'}, {'ip': '36.91.142.58:8080'}, {'ip': '5.189.184.6:80'}]\n"
     ]
    }
   ],
   "source": [
    "with open('proxy_list.txt', 'w') as file:\n",
    "    print(validips)\n",
    "    for ip in validips:\n",
    "        file.write(ip['ip'])\n",
    "        file.write('\\n')"
   ]
  }
 ],
 "metadata": {
  "kernelspec": {
   "display_name": "Python 3",
   "language": "python",
   "name": "python3"
  },
  "language_info": {
   "codemirror_mode": {
    "name": "ipython",
    "version": 3
   },
   "file_extension": ".py",
   "mimetype": "text/x-python",
   "name": "python",
   "nbconvert_exporter": "python",
   "pygments_lexer": "ipython3",
   "version": "3.8.10"
  },
  "orig_nbformat": 4
 },
 "nbformat": 4,
 "nbformat_minor": 2
}
