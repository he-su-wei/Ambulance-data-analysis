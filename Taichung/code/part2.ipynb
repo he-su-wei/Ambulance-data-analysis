{
 "cells": [
  {
   "cell_type": "code",
   "execution_count": 3,
   "metadata": {},
   "outputs": [],
   "source": [
    "import os\n",
    "import pandas as pd\n",
    "import numpy as np\n",
    "import function_api"
   ]
  },
  {
   "cell_type": "code",
   "execution_count": 4,
   "metadata": {},
   "outputs": [],
   "source": [
    "data_basic_path = '../year/'\n",
    "years = os.listdir(data_basic_path)"
   ]
  },
  {
   "attachments": {},
   "cell_type": "markdown",
   "metadata": {},
   "source": [
    "### 提取取各年之年齡 (part2/age_cocncat.csv)"
   ]
  },
  {
   "cell_type": "code",
   "execution_count": 6,
   "metadata": {},
   "outputs": [],
   "source": [
    "output_dir = '../part2/'\n",
    "savefileName = 'team'\n",
    "file_name = 'eResponse.csv'\n",
    "col_names = ['eRecordT01', 'eResponseT03']"
   ]
  },
  {
   "cell_type": "code",
   "execution_count": 7,
   "metadata": {},
   "outputs": [
    {
     "name": "stdout",
     "output_type": "stream",
     "text": [
      "2011 Concating Please wait . . . .\n",
      "2012 Concating Please wait . . . .\n",
      "2013 Concating Please wait . . . .\n",
      "2014 Concating Please wait . . . .\n",
      "2015 Concating Please wait . . . .\n",
      "2016 Concating Please wait . . . .\n",
      "2017 Concating Please wait . . . .\n",
      "2018 Concating Please wait . . . .\n",
      "2019 Concating Please wait . . . .\n",
      "2020 Concating Please wait . . . .\n",
      "2021 Concating Please wait . . . .\n",
      "2022 Concating Please wait . . . .\n",
      "Saving in../part2/team_concat.csv. . . .\n"
     ]
    },
    {
     "data": {
      "text/plain": [
       "'Success'"
      ]
     },
     "execution_count": 7,
     "metadata": {},
     "output_type": "execute_result"
    }
   ],
   "source": [
    "function_api.concat_col(data_basic_path, years, file_name, col_names, output_dir, savefileName)"
   ]
  },
  {
   "cell_type": "code",
   "execution_count": 8,
   "metadata": {},
   "outputs": [],
   "source": [
    "output_dir = '../part2/'\n",
    "savefileName = 'address'\n",
    "file_name = 'eScene.csv'\n",
    "col_names = ['eRecordT01', 'eSceneT01']"
   ]
  },
  {
   "cell_type": "code",
   "execution_count": 9,
   "metadata": {},
   "outputs": [
    {
     "name": "stdout",
     "output_type": "stream",
     "text": [
      "2011 Concating Please wait . . . .\n",
      "2012 Concating Please wait . . . .\n",
      "2013 Concating Please wait . . . .\n",
      "2014 Concating Please wait . . . .\n",
      "2015 Concating Please wait . . . .\n",
      "2016 Concating Please wait . . . .\n",
      "2017 Concating Please wait . . . .\n",
      "2018 Concating Please wait . . . .\n",
      "2019 Concating Please wait . . . .\n",
      "2020 Concating Please wait . . . .\n",
      "2021 Concating Please wait . . . .\n",
      "2022 Concating Please wait . . . .\n",
      "Saving in../part2/address_concat.csv. . . .\n"
     ]
    },
    {
     "data": {
      "text/plain": [
       "'Success'"
      ]
     },
     "execution_count": 9,
     "metadata": {},
     "output_type": "execute_result"
    }
   ],
   "source": [
    "function_api.noYear_concat_col(data_basic_path, years, file_name, col_names, output_dir, savefileName)"
   ]
  },
  {
   "cell_type": "code",
   "execution_count": 10,
   "metadata": {},
   "outputs": [],
   "source": [
    "output_dir = '../part2/'\n",
    "savefileName = 'isALT'\n",
    "file_name = 'eDisposition.csv'\n",
    "col_names = ['eRecordT01', 'eDispositionT09']"
   ]
  },
  {
   "cell_type": "code",
   "execution_count": 11,
   "metadata": {},
   "outputs": [
    {
     "name": "stdout",
     "output_type": "stream",
     "text": [
      "2011 Concating Please wait . . . .\n",
      "2012 Concating Please wait . . . .\n",
      "2013 Concating Please wait . . . .\n",
      "2014 Concating Please wait . . . .\n",
      "2015 Concating Please wait . . . .\n",
      "2016 Concating Please wait . . . .\n",
      "2017 Concating Please wait . . . .\n",
      "2018 Concating Please wait . . . .\n",
      "2019 Concating Please wait . . . .\n",
      "2020 Concating Please wait . . . .\n",
      "2021 Concating Please wait . . . .\n",
      "2022 Concating Please wait . . . .\n",
      "Saving in../part2/isALT_concat.csv. . . .\n"
     ]
    },
    {
     "data": {
      "text/plain": [
       "'Success'"
      ]
     },
     "execution_count": 11,
     "metadata": {},
     "output_type": "execute_result"
    }
   ],
   "source": [
    "function_api.noYear_concat_col(data_basic_path, years, file_name, col_names, output_dir, savefileName)"
   ]
  },
  {
   "cell_type": "code",
   "execution_count": null,
   "metadata": {},
   "outputs": [],
   "source": [
    "output_dir = '../part2/'\n",
    "savefileName = 'isALT'\n",
    "file_name = 'eDisposition.csv'"
   ]
  },
  {
   "cell_type": "code",
   "execution_count": null,
   "metadata": {},
   "outputs": [],
   "source": [
    "function_api.noYear_concat_col(data_basic_path, years, file_name, col_names, output_dir, savefileName)"
   ]
  },
  {
   "attachments": {},
   "cell_type": "markdown",
   "metadata": {},
   "source": [
    "#### merge "
   ]
  },
  {
   "cell_type": "code",
   "execution_count": 12,
   "metadata": {},
   "outputs": [
    {
     "name": "stdout",
     "output_type": "stream",
     "text": [
      "Dir Existed \n"
     ]
    }
   ],
   "source": [
    "import csv\n",
    "\n",
    "dir =  \"../part2\"\n",
    "merge_path_file = dir + \"/merge.csv\"\n",
    "\n",
    "# 創建資料夾\n",
    "if not (os.path.exists(dir)):\n",
    "    os.makedirs(dir)\n",
    "    print(\"Dir Created \")\n",
    "else:\n",
    "    print(\"Dir Existed \")\n",
    "\n",
    "# 創建 _merge.csv 並給予 主鍵('eRecordT01')\n",
    "with open(merge_path_file, 'w') as file:\n",
    "    dw = csv.DictWriter(file, delimiter=',', fieldnames=['eRecordT01'])\n",
    "    dw.writeheader()\n",
    "\n",
    "full_path = ['../part2/address_concat.csv', '../part2/team_concat.csv', '../part2/isALT_concat.csv']\n",
    "\n",
    "df_list = [pd.read_csv(file, low_memory=False) for file in full_path]\n",
    "\n",
    "for file in df_list:\n",
    "    merge = pd.read_csv(merge_path_file, low_memory=False)\n",
    "    result = merge.merge(file, on='eRecordT01', how='right')  #逐一基於eRecordT01欄位合併到第一個Pandas DataFrame\n",
    "    result.to_csv(merge_path_file, index=False)\n",
    "\n",
    "\n",
    "data = pd.read_csv('../part2/' + 'merge.csv')\n",
    "data = data[['year','eRecordT01','eDispositionT09','eResponseT03', 'eSceneT01']]\n",
    "data.to_csv(merge_path_file, index=False)"
   ]
  },
  {
   "attachments": {},
   "cell_type": "markdown",
   "metadata": {},
   "source": [
    "### 分隊派遣統計"
   ]
  },
  {
   "attachments": {},
   "cell_type": "markdown",
   "metadata": {},
   "source": [
    "![RUNOOB 图标](../img/District.png)"
   ]
  },
  {
   "attachments": {},
   "cell_type": "markdown",
   "metadata": {},
   "source": [
    "###### 建立分隊區域 字典(dict)"
   ]
  },
  {
   "cell_type": "code",
   "execution_count": 5,
   "metadata": {},
   "outputs": [],
   "source": [
    "District_dict = {'中區':['中區91'], '南區':['信義91', '勤工91'], '東區':['東英91'], '北區':['中港91', '中港92', '中港93', '大誠91'], '南屯區':['南屯91','南屯92' ,'春社91'], '西屯區':['黎明91','黎明92' , '協和91', '工業區91', '西屯91', '西屯93'], '北屯區':['北屯91', '北屯92','四平91', '水湳91', '文昌91', '文昌92', '東山91'], '太平區':['太平91','太平92' ,'中山91', '車籠埔91'], '大里區':['仁化91', '大里91','大里92' ,'十九甲91', '國光91'], '霧峰區':['霧峰91', '霧峰92'], '烏日區':['烏日91', '烏日92','溪湳91'], '大肚區':['大肚91'], '龍井區':['龍井91', '犁份91'], '梧棲區':['梧棲91'], '沙鹿區':['沙鹿91', '清泉91'], '大雅區':['大雅91'], '潭子區':['潭子91', '頭家厝91'], '神岡區':['神岡91'], '豐原區':['豐原91','豐原92' ,'豐南91'], '大甲區':['幼獅91', '大甲91'], '外埔區':['外埔91'], '大安區':['大安91'], '后里區':['后里91', '后里92'], '石岡區':['石岡91'], '新社區':['新社91'], '東勢區':['東勢91', '東勢92'], '和平區':['和平91', '梨山91', '雙崎91', '谷關91']}\n",
    "\n",
    "District_sum = {'中區': 0, '南區':0, '東區':0, '北區':0, '南屯區':0, '西屯區':0, '北屯區':0, '太平區':0, '大里區':0, '霧峰區':0,'烏日區': 0 ,'大肚區':0, '龍井區':0, '梧棲區':0, '沙鹿區':0, '大雅區':0, '潭子區':0, '神岡區':0, '豐原區':0, '大甲區':0, '外埔區':0, '大安區':0, '后里區':0, '石岡區':0, '新社區':0, '東勢區':0, '和平區':0}"
   ]
  },
  {
   "cell_type": "code",
   "execution_count": 8,
   "metadata": {},
   "outputs": [],
   "source": [
    "District_dict = {'中區':['中區91'], '南區':['信義91', '勤工91'], '東區':['東英91'], '北區':['中港91', '大誠91'], '南屯區':['南屯91', '春社91'], '西屯區':['黎明91', '協和91', '工業區91', '西屯91'], '北屯區':['北屯91', '四平91', '水湳91', '文昌91', '東山91'], '太平區':['太平91', '中山91', '車籠埔91'], '大里區':['仁化91', '大里91', '十九甲91', '國光91'], '霧峰區':['霧峰91'], '烏日區':['烏日91', '溪湳91'], '大肚區':['大肚91'], '龍井區':['龍井91', '犁份91'], '梧棲區':['梧棲91'], '沙鹿區':['沙鹿91', '清泉91'], '大雅區':['大雅91'], '潭子區':['潭子91', '頭家厝91'], '神岡區':['神岡91'], '豐原區':['豐原91', '豐南91'], '大甲區':['幼獅91', '大甲91'], '外埔區':['外埔91'], '大安區':['大安91'], '后里區':['后里91'], '石岡區':['石岡91'], '新社區':['新社91'], '東勢區':['東勢91'], '和平區':['和平91', '梨山91', '雙崎91', '谷關91']}\n",
    "\n",
    "District_sum = {'中區': 0, '南區':0, '東區':0, '北區':0, '南屯區':0, '西屯區':0, '北屯區':0, '太平區':0, '大里區':0, '霧峰區':0,'烏日區': 0 ,'大肚區':0, '龍井區':0, '梧棲區':0, '沙鹿區':0, '大雅區':0, '潭子區':0, '神岡區':0, '豐原區':0, '大甲區':0, '外埔區':0, '大安區':0, '后里區':0, '石岡區':0, '新社區':0, '東勢區':0, '和平區':0}"
   ]
  },
  {
   "cell_type": "code",
   "execution_count": 6,
   "metadata": {},
   "outputs": [],
   "source": [
    "address_df = pd.read_csv('../part2/merge.csv')"
   ]
  },
  {
   "cell_type": "code",
   "execution_count": 7,
   "metadata": {},
   "outputs": [],
   "source": [
    "counter_colName = \"eResponseT03\"\n",
    "# team_sum = []"
   ]
  },
  {
   "attachments": {},
   "cell_type": "markdown",
   "metadata": {},
   "source": [
    "#### 12年總分隊出勤統計 (多 - 少)"
   ]
  },
  {
   "cell_type": "code",
   "execution_count": 8,
   "metadata": {},
   "outputs": [
    {
     "name": "stdout",
     "output_type": "stream",
     "text": [
      "Counter({'101004_豐原91': 52183, '101004_中區91': 49473, '101004_信義91': 46191, '101004_文昌91': 44521, '101004_南屯91': 43132, '101004_中港91': 42411, '101004_黎明91': 40767, '101004_大雅91': 39110, '101004_大誠91': 38734, '101004_北屯91': 37224, '101004_水湳91': 37009, '101004_中山91': 36494, '101004_潭子91': 36042, '101004_西屯91': 35357, '101004_太平91': 33842, '101004_霧峰91': 32636, '101004_沙鹿91': 31886, '101004_清水91': 31122, '101004_勤工91': 30958, '101004_四平91': 28834, '101004_協和91': 28690, '101004_國光91': 28268, '101004_神岡91': 27689, '101004_烏日91': 26584, '101004_東山91': 26226, '101004_仁化91': 24175, '101004_東英91': 24128, '101004_十九甲91': 23739, '101004_后里91': 23624, '101004_犁份91': 23324, '101004_中港93': 22854, '101004_大甲91': 21973, '101004_大里91': 21967, '101004_梧棲91': 21790, '101004_豐原92': 21126, '101004_東勢91': 20900, '101004_龍井91': 19107, '101004_清泉91': 18319, '101004_春社91': 17534, '101004_大肚91': 16807, '101004_頭家厝91': 16564, '101004_中港92': 15568, '101004_外埔91': 14138, '101004_石岡91': 12806, '101004_文昌92': 11745, '101004_新社91': 11537, '101004_黎明92': 11436, '101004_工業91': 10971, '101004_霧峰92': 9408, '101004_烏日92': 9357, '101004_幼獅91': 9352, '101004_大安91': 8913, '101004_92': 8827, '101004_太平92': 8606, '101004_南屯92': 7786, '101004_豐南91': 6147, '101004_頭家91': 5891, '101016_中區91': 5509, '101016_黎明91': 5413, '101016_北屯91': 5227, '101016_信義91': 5118, '101016_文昌91': 5035, '101016_大誠91': 5033, '101016_中港91': 5029, '101016_南屯91': 4936, '101004_車籠埔91': 4726, '101004_和平91': 4518, '101016_豐原91': 4472, '101016_豐南91': 4381, '101004_仁化92': 4357, '101016_西屯91': 4318, '101004_西屯92': 4050, '101016_中港93': 3993, '101016_沙鹿91': 3960, '101016_中山91': 3887, '101004_大里92': 3828, '101016_國光91': 3790, '101016_東英91': 3734, '101016_勤工91': 3680, '101016_潭子91': 3670, '101004_溪南91': 3634, '101016_四平91': 3574, '101016_水湳91': 3568, '101004_溪湳91': 3565, '101016_霧峰91': 3488, '101016_大雅91': 3457, '101016_協和91': 3384, '101016_清水91': 3345, '101004_國光92': 3312, '101004_': 3189, '101004_后里92': 3165, '101016_東山91': 3059, '101016_烏日91': 3026, '101016_十九甲91': 2976, '101016_頭家厝91': 2915, '101016_太平91': 2822, '101016_犁份91': 2735, '101004_梨山91': 2690, '101016_神岡91': 2689, '101016_后里91': 2641, '101016_梧棲91': 2639, '101016_黎明92': 2626, '101016_大甲91': 2563, '101004_中山92': 2331, '101016_東勢91': 2239, '101016_大里91': 2196, '101016_仁化91': 2187, '101016_春社91': 2133, '101016_龍井91': 2132, '101016_清泉91': 2020, '101016_外埔91': 1781, '101004_潭子92': 1732, '101004_消護車081': 1648, '101016_大肚91': 1628, '101016_新社91': 1504, '101016_石岡91': 1451, '101016_工業區91': 1434, '101016_車籠埔91': 1411, '101016_溪湳91': 1356, '101004_雙崎91': 1354, '101016_中山92': 1258, '101016_霧峰92': 1187, '101016_大安91': 1173, '101004_北屯92': 1155, '101004_東勢92': 1142, '101016_幼獅91': 1048, '101004_新社92': 932, '101004_ 新社91': 920, '101004_ 車籠埔91': 855, '101016_烏日92': 843, '101016_文昌92*': 782, '101016_中港92*': 781, '101016_太平92': 751, '101004_谷關91': 699, '101016_南屯92*': 570, '101016_北屯92*': 541, '101016_大里92*': 539, '101004_九甲91': 525, '101016_國光92*': 509, '101004_西屯93': 499, '101016_中區92*': 492, '101016_中山93*': 454, '101004_港91': 439, '101016_豐南92*': 422, '101016_黎明93*': 408, '101016_豐原92*': 383, '101016_沙鹿92*': 355, '101004_港92': 354, '101016_大雅92*': 349, '101016_和平91': 341, '101016_協和92*': 337, '101016_清水92*': 333, '101016_谷關91': 330, '101004_大誠92': 310, '101004_消護車135': 306, '101016_東山92*': 277, '101016_烏日93*': 272, '101004_中市消': 264, '101016_梨山91': 260, '101004_大雅92': 255, '101016_東勢92*': 247, '101016_大甲92*': 242, '101016_后里92*': 241, '101016_新社轄92': 238, '101004_消護字131': 230, '101016_豐原92': 218, '101004_信義92': 216, '101004_消護車090': 201, '101016_龍井92*': 201, '101004_消護車190': 200, '101016_雙崎91': 195, '101016_南屯93': 188, '101004_梨山92': 183, '101016_大雅92': 179, '101004_和平92': 178, '101016_中港94*': 143, '101004_消護車183': 134, '101004_東山負壓車': 110, '101004_清泉92': 87, '101004_后里94': 85, '101004_ ': 79, '101004_十九甲92': 70, '101004_籠埔91': 67, '101004_消護車179': 58, '101004_清水92': 52, '101004_豐原93': 38, '101004_后里93': 38, '101004_外埔92': 34, '101004_協和92': 32, '101004_中港94': 29, '101004_沙鹿92': 29, '101004_雙崎92': 27, '101016_和平轄92': 24, '101004_黎明93': 22, '101016_梨山92': 21, '101016_和平92*': 19, '101016_后里92': 16, '101016_水湳92*': 13, '101016_神岡92*': 13, '101004_幼獅92': 12, '101016_梨山轄92': 12, '101004_消護車151': 11, '101016_信義BNT': 9, '101016_犁份92': 7, '101004_春社92': 6, '101016_和平92': 6, '101004_南屯BNT': 5, '101016_南屯BNT': 4, '101004_消護車018': 3, '101004_東山92': 3, '101004_國光93': 3, '101004_消護車089': 3, '101004_消護車221': 3, '101016_霧峰BNT': 3, '101016_東勢92': 3, '101004_哈魯莎91': 2, '101016_文昌分隊': 2, '101016_北屯BNT': 2, '101004_大誠93': 1, '101004_專責91': 1, '101004_消護車020': 1, '101004_第五大隊': 1, '101004_消護車152': 1, '101004_沙鹿91出': 1, '101016_北屯91 ': 1, '101016_文91': 1, '101016_豐南92': 1, '101016_四平BNT': 1, '101016_水湳BNT': 1, '101016_南屯92': 1, '101016_中山BNT': 1, '101004_中山93': 1, '101016_ 西屯91': 1, '101016_四平': 1, '101016_四平分隊': 1, '101016_春社分隊': 1, '101016_潭子91V1200000': 1, '101016_西屯': 1, '101016_新社92': 1, '101016_勤工91U2000': 1, '101016_中港92＊': 1, '101016_北屯9': 1, '101016_工 業區91': 1, '101016_北屯92': 1, '101016_文昌912': 1, '101016_黎明*93': 1, '101016_頭家91': 1, '101016_中山93': 1, '101016_四平91?': 1, '101016_中港92* ': 1, '101016_中區9': 1, '101016_豐南91 ': 1, '101016_潭子91 ': 1})\n"
     ]
    }
   ],
   "source": [
    "class_Counter = function_api.count(address_df, counter_colName)\n",
    "print(class_Counter)\n",
    "# team_sum.append(class_Counter)"
   ]
  },
  {
   "attachments": {},
   "cell_type": "markdown",
   "metadata": {},
   "source": [
    "#### 各區統計"
   ]
  },
  {
   "attachments": {},
   "cell_type": "markdown",
   "metadata": {},
   "source": [
    "* 純91"
   ]
  },
  {
   "attachments": {},
   "cell_type": "markdown",
   "metadata": {},
   "source": [
    "###### 分隊是否在字典裡的某一區域內並統計到[District_sum]字典裡"
   ]
  },
  {
   "cell_type": "code",
   "execution_count": 11,
   "metadata": {},
   "outputs": [
    {
     "name": "stdout",
     "output_type": "stream",
     "text": [
      "{'中區': 54982, '南區': 85947, '東區': 27862, '北區': 91207, '南屯區': 67735, '西屯區': 119363, '北屯區': 194277, '太平區': 83182, '大里區': 109298, '霧峰區': 36124, '烏日區': 34531, '大肚區': 18435, '龍井區': 47298, '梧棲區': 24429, '沙鹿區': 56185, '大雅區': 42567, '潭子區': 59191, '神岡區': 30378, '豐原區': 67183, '大甲區': 34936, '外埔區': 15919, '大安區': 10086, '后里區': 26265, '石岡區': 14257, '新社區': 13041, '東勢區': 23139, '和平區': 10387}\n"
     ]
    }
   ],
   "source": [
    "team_data=address_df[counter_colName].apply(lambda t: t[7:])\n",
    "for item in team_data:\n",
    "    for item_dict in District_dict:\n",
    "        if item in District_dict[item_dict]:\n",
    "            District_sum[item_dict] += 1\n",
    "        else:\n",
    "            pass\n",
    "\n",
    "print(District_sum)"
   ]
  },
  {
   "attachments": {},
   "cell_type": "markdown",
   "metadata": {},
   "source": [
    "###### 檢查總比數與輸出結果落差多少 與原始資料落差30萬筆"
   ]
  },
  {
   "cell_type": "code",
   "execution_count": 12,
   "metadata": {},
   "outputs": [
    {
     "name": "stdout",
     "output_type": "stream",
     "text": [
      "1398204\n"
     ]
    }
   ],
   "source": [
    "data = 0\n",
    "for i in District_sum:\n",
    "    data += District_sum[i]\n",
    "print(data)\n"
   ]
  },
  {
   "attachments": {},
   "cell_type": "markdown",
   "metadata": {},
   "source": [
    "* 新增92、93"
   ]
  },
  {
   "cell_type": "code",
   "execution_count": 9,
   "metadata": {},
   "outputs": [
    {
     "name": "stdout",
     "output_type": "stream",
     "text": [
      "{'中區': 54982, '南區': 85947, '東區': 27862, '北區': 133622, '南屯區': 75522, '西屯區': 133924, '北屯區': 207178, '太平區': 92539, '大里區': 113126, '霧峰區': 46719, '烏日區': 44731, '大肚區': 18435, '龍井區': 47298, '梧棲區': 24429, '沙鹿區': 56185, '大雅區': 42567, '潭子區': 59191, '神岡區': 30378, '豐原區': 88527, '大甲區': 34936, '外埔區': 15919, '大安區': 10086, '后里區': 29446, '石岡區': 14257, '新社區': 13041, '東勢區': 24284, '和平區': 10387}\n"
     ]
    }
   ],
   "source": [
    "team_data=address_df[counter_colName].apply(lambda t: t[7:])\n",
    "for item in team_data:\n",
    "    for item_dict in District_dict:\n",
    "        if item in District_dict[item_dict]:\n",
    "            District_sum[item_dict] += 1\n",
    "        else:\n",
    "            pass\n",
    "\n",
    "print(District_sum)"
   ]
  },
  {
   "attachments": {},
   "cell_type": "markdown",
   "metadata": {},
   "source": [
    "###### 檢查總比數與輸出結果落差多少  與原始資料落差10萬多筆"
   ]
  },
  {
   "cell_type": "code",
   "execution_count": 10,
   "metadata": {},
   "outputs": [
    {
     "name": "stdout",
     "output_type": "stream",
     "text": [
      "1535518\n"
     ]
    }
   ],
   "source": [
    "data = 0\n",
    "for i in District_sum:\n",
    "    data += District_sum[i]\n",
    "print(data)\n"
   ]
  },
  {
   "attachments": {},
   "cell_type": "markdown",
   "metadata": {},
   "source": [
    "###### Dict 轉為 Datafram 型式"
   ]
  },
  {
   "cell_type": "code",
   "execution_count": 11,
   "metadata": {},
   "outputs": [],
   "source": [
    "df_District_sum = pd.DataFrame(list(District_sum.items()),columns=['District', 'Sum'], index=None)"
   ]
  },
  {
   "attachments": {},
   "cell_type": "markdown",
   "metadata": {},
   "source": [
    "#### 數據視覺化"
   ]
  },
  {
   "attachments": {},
   "cell_type": "markdown",
   "metadata": {},
   "source": [
    "* 圖資下載 https://data.moi.gov.tw/MoiOD/System/DownloadFile.aspx?DATA=CD02C824-45C5-48C8-B631-98B205A2E35A"
   ]
  },
  {
   "cell_type": "code",
   "execution_count": 12,
   "metadata": {},
   "outputs": [],
   "source": [
    "import geopandas as gpd\n",
    "import mapclassify\n",
    "import matplotlib.pyplot as plt\n",
    "%matplotlib inline\n",
    "# plt.rcParams['figure.figsize'] = (12.0, 8.0)\n"
   ]
  },
  {
   "cell_type": "code",
   "execution_count": 13,
   "metadata": {},
   "outputs": [],
   "source": [
    "town_shp = gpd.read_file('../mapdata202303230423/TOWN_MOI_1120317.shp', encoding='utf-8')"
   ]
  },
  {
   "attachments": {},
   "cell_type": "markdown",
   "metadata": {},
   "source": [
    "###### 確認圖資是否正常讀取"
   ]
  },
  {
   "cell_type": "code",
   "execution_count": 14,
   "metadata": {},
   "outputs": [
    {
     "data": {
      "text/html": [
       "<div>\n",
       "<style scoped>\n",
       "    .dataframe tbody tr th:only-of-type {\n",
       "        vertical-align: middle;\n",
       "    }\n",
       "\n",
       "    .dataframe tbody tr th {\n",
       "        vertical-align: top;\n",
       "    }\n",
       "\n",
       "    .dataframe thead th {\n",
       "        text-align: right;\n",
       "    }\n",
       "</style>\n",
       "<table border=\"1\" class=\"dataframe\">\n",
       "  <thead>\n",
       "    <tr style=\"text-align: right;\">\n",
       "      <th></th>\n",
       "      <th>TOWNID</th>\n",
       "      <th>TOWNCODE</th>\n",
       "      <th>COUNTYNAME</th>\n",
       "      <th>TOWNNAME</th>\n",
       "      <th>TOWNENG</th>\n",
       "      <th>COUNTYID</th>\n",
       "      <th>COUNTYCODE</th>\n",
       "      <th>geometry</th>\n",
       "    </tr>\n",
       "  </thead>\n",
       "  <tbody>\n",
       "    <tr>\n",
       "      <th>358</th>\n",
       "      <td>O01</td>\n",
       "      <td>10018010</td>\n",
       "      <td>新竹市</td>\n",
       "      <td>東區</td>\n",
       "      <td>East District</td>\n",
       "      <td>O</td>\n",
       "      <td>10018</td>\n",
       "      <td>POLYGON ((120.98675 24.82219, 120.98677 24.822...</td>\n",
       "    </tr>\n",
       "    <tr>\n",
       "      <th>359</th>\n",
       "      <td>T04</td>\n",
       "      <td>10013040</td>\n",
       "      <td>屏東縣</td>\n",
       "      <td>恆春鎮</td>\n",
       "      <td>Hengchun Township</td>\n",
       "      <td>T</td>\n",
       "      <td>10013</td>\n",
       "      <td>MULTIPOLYGON (((120.82649 21.75615, 120.82646 ...</td>\n",
       "    </tr>\n",
       "    <tr>\n",
       "      <th>360</th>\n",
       "      <td>B02</td>\n",
       "      <td>66000020</td>\n",
       "      <td>臺中市</td>\n",
       "      <td>東區</td>\n",
       "      <td>East District</td>\n",
       "      <td>B</td>\n",
       "      <td>66000</td>\n",
       "      <td>POLYGON ((120.69233 24.15270, 120.69247 24.152...</td>\n",
       "    </tr>\n",
       "    <tr>\n",
       "      <th>361</th>\n",
       "      <td>B27</td>\n",
       "      <td>66000270</td>\n",
       "      <td>臺中市</td>\n",
       "      <td>太平區</td>\n",
       "      <td>Taiping District</td>\n",
       "      <td>B</td>\n",
       "      <td>66000</td>\n",
       "      <td>POLYGON ((120.80263 24.16946, 120.80258 24.169...</td>\n",
       "    </tr>\n",
       "    <tr>\n",
       "      <th>362</th>\n",
       "      <td>U07</td>\n",
       "      <td>10015020</td>\n",
       "      <td>花蓮縣</td>\n",
       "      <td>鳳林鎮</td>\n",
       "      <td>Fenglin Township</td>\n",
       "      <td>U</td>\n",
       "      <td>10015</td>\n",
       "      <td>POLYGON ((121.52611 23.81732, 121.52628 23.817...</td>\n",
       "    </tr>\n",
       "    <tr>\n",
       "      <th>363</th>\n",
       "      <td>U12</td>\n",
       "      <td>10015120</td>\n",
       "      <td>花蓮縣</td>\n",
       "      <td>萬榮鄉</td>\n",
       "      <td>Wanrong Township</td>\n",
       "      <td>U</td>\n",
       "      <td>10015</td>\n",
       "      <td>POLYGON ((121.27481 23.92640, 121.27521 23.926...</td>\n",
       "    </tr>\n",
       "    <tr>\n",
       "      <th>364</th>\n",
       "      <td>H09</td>\n",
       "      <td>68000090</td>\n",
       "      <td>桃園市</td>\n",
       "      <td>龍潭區</td>\n",
       "      <td>Longtan District</td>\n",
       "      <td>H</td>\n",
       "      <td>68000</td>\n",
       "      <td>POLYGON ((121.19257 24.89410, 121.19262 24.894...</td>\n",
       "    </tr>\n",
       "    <tr>\n",
       "      <th>365</th>\n",
       "      <td>H10</td>\n",
       "      <td>68000100</td>\n",
       "      <td>桃園市</td>\n",
       "      <td>平鎮區</td>\n",
       "      <td>Pingzhen District</td>\n",
       "      <td>H</td>\n",
       "      <td>68000</td>\n",
       "      <td>POLYGON ((121.19052 24.97122, 121.19059 24.971...</td>\n",
       "    </tr>\n",
       "    <tr>\n",
       "      <th>366</th>\n",
       "      <td>A13</td>\n",
       "      <td>63000090</td>\n",
       "      <td>臺北市</td>\n",
       "      <td>南港區</td>\n",
       "      <td>Nangang District</td>\n",
       "      <td>A</td>\n",
       "      <td>63000</td>\n",
       "      <td>POLYGON ((121.61426 25.06451, 121.61426 25.064...</td>\n",
       "    </tr>\n",
       "    <tr>\n",
       "      <th>367</th>\n",
       "      <td>A14</td>\n",
       "      <td>63000100</td>\n",
       "      <td>臺北市</td>\n",
       "      <td>內湖區</td>\n",
       "      <td>Neihu District</td>\n",
       "      <td>A</td>\n",
       "      <td>63000</td>\n",
       "      <td>POLYGON ((121.59360 25.11514, 121.59369 25.115...</td>\n",
       "    </tr>\n",
       "  </tbody>\n",
       "</table>\n",
       "</div>"
      ],
      "text/plain": [
       "    TOWNID  TOWNCODE COUNTYNAME TOWNNAME            TOWNENG COUNTYID  \\\n",
       "358    O01  10018010        新竹市       東區      East District        O   \n",
       "359    T04  10013040        屏東縣      恆春鎮  Hengchun Township        T   \n",
       "360    B02  66000020        臺中市       東區      East District        B   \n",
       "361    B27  66000270        臺中市      太平區   Taiping District        B   \n",
       "362    U07  10015020        花蓮縣      鳳林鎮   Fenglin Township        U   \n",
       "363    U12  10015120        花蓮縣      萬榮鄉   Wanrong Township        U   \n",
       "364    H09  68000090        桃園市      龍潭區   Longtan District        H   \n",
       "365    H10  68000100        桃園市      平鎮區  Pingzhen District        H   \n",
       "366    A13  63000090        臺北市      南港區   Nangang District        A   \n",
       "367    A14  63000100        臺北市      內湖區     Neihu District        A   \n",
       "\n",
       "    COUNTYCODE                                           geometry  \n",
       "358      10018  POLYGON ((120.98675 24.82219, 120.98677 24.822...  \n",
       "359      10013  MULTIPOLYGON (((120.82649 21.75615, 120.82646 ...  \n",
       "360      66000  POLYGON ((120.69233 24.15270, 120.69247 24.152...  \n",
       "361      66000  POLYGON ((120.80263 24.16946, 120.80258 24.169...  \n",
       "362      10015  POLYGON ((121.52611 23.81732, 121.52628 23.817...  \n",
       "363      10015  POLYGON ((121.27481 23.92640, 121.27521 23.926...  \n",
       "364      68000  POLYGON ((121.19257 24.89410, 121.19262 24.894...  \n",
       "365      68000  POLYGON ((121.19052 24.97122, 121.19059 24.971...  \n",
       "366      63000  POLYGON ((121.61426 25.06451, 121.61426 25.064...  \n",
       "367      63000  POLYGON ((121.59360 25.11514, 121.59369 25.115...  "
      ]
     },
     "execution_count": 14,
     "metadata": {},
     "output_type": "execute_result"
    }
   ],
   "source": [
    "town_shp.tail(10)"
   ]
  },
  {
   "attachments": {},
   "cell_type": "markdown",
   "metadata": {},
   "source": [
    "###### 將台中區域提取並以圖呈現"
   ]
  },
  {
   "cell_type": "code",
   "execution_count": null,
   "metadata": {},
   "outputs": [],
   "source": [
    "taichung_town_shp=town_shp[town_shp['COUNTYNAME']=='臺中市']\n",
    "\n",
    "#重設 index => 解決 taichung_town_shp的index 與 enumerate() 不匹配問題\n",
    "taichung_town_shp =taichung_town_shp.reset_index()\n",
    "\n",
    "taichung_town_shp.plot(figsize=(16, 8),cmap='RdBu', edgecolor='k')\n",
    "plt.rcParams['font.sans-serif'] = ['SimHei']\n",
    "\n",
    "taichung_town_shp['coords'] = taichung_town_shp['geometry'].apply(lambda x: x.representative_point().coords[0])\n",
    "\n",
    "# 地圖標註\n",
    "for n, i in enumerate(taichung_town_shp['coords']):\n",
    "    plt.text(i[0] - 0.02, i[1], taichung_town_shp['TOWNNAME'][n])  # 標註位置X，Y，標註内容\n"
   ]
  },
  {
   "attachments": {},
   "cell_type": "markdown",
   "metadata": {},
   "source": [
    "###### 檢查總比數與輸出結果落差多少 與原始資料落差30萬筆"
   ]
  },
  {
   "cell_type": "code",
   "execution_count": 16,
   "metadata": {},
   "outputs": [
    {
     "data": {
      "text/html": [
       "<div>\n",
       "<style scoped>\n",
       "    .dataframe tbody tr th:only-of-type {\n",
       "        vertical-align: middle;\n",
       "    }\n",
       "\n",
       "    .dataframe tbody tr th {\n",
       "        vertical-align: top;\n",
       "    }\n",
       "\n",
       "    .dataframe thead th {\n",
       "        text-align: right;\n",
       "    }\n",
       "</style>\n",
       "<table border=\"1\" class=\"dataframe\">\n",
       "  <thead>\n",
       "    <tr style=\"text-align: right;\">\n",
       "      <th></th>\n",
       "      <th>index</th>\n",
       "      <th>TOWNID</th>\n",
       "      <th>TOWNCODE</th>\n",
       "      <th>COUNTYNAME</th>\n",
       "      <th>TOWNNAME</th>\n",
       "      <th>TOWNENG</th>\n",
       "      <th>COUNTYID</th>\n",
       "      <th>COUNTYCODE</th>\n",
       "      <th>geometry</th>\n",
       "      <th>coords</th>\n",
       "      <th>District</th>\n",
       "      <th>Sum</th>\n",
       "    </tr>\n",
       "  </thead>\n",
       "  <tbody>\n",
       "    <tr>\n",
       "      <th>0</th>\n",
       "      <td>40</td>\n",
       "      <td>B25</td>\n",
       "      <td>66000250</td>\n",
       "      <td>臺中市</td>\n",
       "      <td>龍井區</td>\n",
       "      <td>Longjing District</td>\n",
       "      <td>B</td>\n",
       "      <td>66000</td>\n",
       "      <td>POLYGON ((120.48718 24.24761, 120.48785 24.246...</td>\n",
       "      <td>(120.50666237795349, 24.209110149264006)</td>\n",
       "      <td>龍井區</td>\n",
       "      <td>47298</td>\n",
       "    </tr>\n",
       "    <tr>\n",
       "      <th>1</th>\n",
       "      <td>41</td>\n",
       "      <td>B18</td>\n",
       "      <td>66000180</td>\n",
       "      <td>臺中市</td>\n",
       "      <td>大雅區</td>\n",
       "      <td>Daya District</td>\n",
       "      <td>B</td>\n",
       "      <td>66000</td>\n",
       "      <td>POLYGON ((120.63446 24.25916, 120.63500 24.259...</td>\n",
       "      <td>(120.64164637428009, 24.230364189156035)</td>\n",
       "      <td>大雅區</td>\n",
       "      <td>42567</td>\n",
       "    </tr>\n",
       "    <tr>\n",
       "      <th>2</th>\n",
       "      <td>42</td>\n",
       "      <td>B13</td>\n",
       "      <td>66000130</td>\n",
       "      <td>臺中市</td>\n",
       "      <td>沙鹿區</td>\n",
       "      <td>Shalu District</td>\n",
       "      <td>B</td>\n",
       "      <td>66000</td>\n",
       "      <td>POLYGON ((120.58312 24.26898, 120.58377 24.268...</td>\n",
       "      <td>(120.57593199340009, 24.230824248140607)</td>\n",
       "      <td>沙鹿區</td>\n",
       "      <td>56185</td>\n",
       "    </tr>\n",
       "    <tr>\n",
       "      <th>3</th>\n",
       "      <td>43</td>\n",
       "      <td>B14</td>\n",
       "      <td>66000140</td>\n",
       "      <td>臺中市</td>\n",
       "      <td>梧棲區</td>\n",
       "      <td>Wuqi District</td>\n",
       "      <td>B</td>\n",
       "      <td>66000</td>\n",
       "      <td>POLYGON ((120.51007 24.28782, 120.51055 24.287...</td>\n",
       "      <td>(120.52318585770482, 24.252929069171273)</td>\n",
       "      <td>梧棲區</td>\n",
       "      <td>24429</td>\n",
       "    </tr>\n",
       "    <tr>\n",
       "      <th>4</th>\n",
       "      <td>217</td>\n",
       "      <td>B09</td>\n",
       "      <td>66000090</td>\n",
       "      <td>臺中市</td>\n",
       "      <td>豐原區</td>\n",
       "      <td>Fengyuan District</td>\n",
       "      <td>B</td>\n",
       "      <td>66000</td>\n",
       "      <td>POLYGON ((120.74825 24.28065, 120.74858 24.280...</td>\n",
       "      <td>(120.73458695378352, 24.25017617918735)</td>\n",
       "      <td>豐原區</td>\n",
       "      <td>88527</td>\n",
       "    </tr>\n",
       "  </tbody>\n",
       "</table>\n",
       "</div>"
      ],
      "text/plain": [
       "   index TOWNID  TOWNCODE COUNTYNAME TOWNNAME            TOWNENG COUNTYID  \\\n",
       "0     40    B25  66000250        臺中市      龍井區  Longjing District        B   \n",
       "1     41    B18  66000180        臺中市      大雅區      Daya District        B   \n",
       "2     42    B13  66000130        臺中市      沙鹿區     Shalu District        B   \n",
       "3     43    B14  66000140        臺中市      梧棲區      Wuqi District        B   \n",
       "4    217    B09  66000090        臺中市      豐原區  Fengyuan District        B   \n",
       "\n",
       "  COUNTYCODE                                           geometry  \\\n",
       "0      66000  POLYGON ((120.48718 24.24761, 120.48785 24.246...   \n",
       "1      66000  POLYGON ((120.63446 24.25916, 120.63500 24.259...   \n",
       "2      66000  POLYGON ((120.58312 24.26898, 120.58377 24.268...   \n",
       "3      66000  POLYGON ((120.51007 24.28782, 120.51055 24.287...   \n",
       "4      66000  POLYGON ((120.74825 24.28065, 120.74858 24.280...   \n",
       "\n",
       "                                     coords District    Sum  \n",
       "0  (120.50666237795349, 24.209110149264006)      龍井區  47298  \n",
       "1  (120.64164637428009, 24.230364189156035)      大雅區  42567  \n",
       "2  (120.57593199340009, 24.230824248140607)      沙鹿區  56185  \n",
       "3  (120.52318585770482, 24.252929069171273)      梧棲區  24429  \n",
       "4   (120.73458695378352, 24.25017617918735)      豐原區  88527  "
      ]
     },
     "execution_count": 16,
     "metadata": {},
     "output_type": "execute_result"
    }
   ],
   "source": [
    "Taichung = taichung_town_shp.merge(df_District_sum, left_on=('TOWNNAME'), right_on=('District'))\n",
    "Taichung.head()"
   ]
  },
  {
   "cell_type": "code",
   "execution_count": null,
   "metadata": {},
   "outputs": [],
   "source": [
    "fig, ax = plt.subplots(1, figsize=(30, 9), dpi=100)\n",
    "\n",
    "# Taichung.plot(figsize=(20, 8),column='Sum', cmap='OrRd', edgecolor='k')\n",
    "\n",
    "plt.rcParams['font.sans-serif'] = ['SimHei']\n",
    "plt.title('2011 - 2022 年 各區救護出勤熱力圖')\n",
    "taichung_town_shp['coords'] = taichung_town_shp['geometry'].apply(lambda x: x.representative_point().coords[0])\n",
    "\n",
    "# 地圖\n",
    "Taichung.plot(column='Sum', cmap='OrRd', scheme='FisherJenks', linewidth=0.5, edgecolor='0.5', ax=ax) # pip install mapclassify\n",
    "ax.axis('off')\n",
    "\n",
    "# 地圖標註\n",
    "for n, i in enumerate(taichung_town_shp['coords']):\n",
    "    plt.text(i[0] - 0.02, i[1], taichung_town_shp['TOWNNAME'][n])  # 標註位置X，Y，標註内容\n",
    "\n",
    "# 範圍條圖\n",
    "sm = plt.cm.ScalarMappable(cmap='OrRd')\n",
    "cbar = fig.colorbar(sm)\n",
    "bins = mapclassify.FisherJenks(Taichung['Sum'], 5).bins\n",
    "bins = np.insert(bins, 0, 0)\n",
    "_ = cbar.ax.set_yticklabels(bins)\n",
    "    "
   ]
  },
  {
   "attachments": {},
   "cell_type": "markdown",
   "metadata": {},
   "source": [
    "#### 各年分隊出勤統計 (2011 - 2022 (多 - 少))"
   ]
  },
  {
   "cell_type": "code",
   "execution_count": 18,
   "metadata": {},
   "outputs": [
    {
     "name": "stdout",
     "output_type": "stream",
     "text": [
      "{'中區': 4424, '南區': 6608, '東區': 2692, '北區': 9975, '南屯區': 5341, '西屯區': 8591, '北屯區': 15801, '太平區': 7769, '大里區': 6517, '霧峰區': 3684, '烏日區': 3205, '大肚區': 1422, '龍井區': 3581, '梧棲區': 2160, '沙鹿區': 4338, '大雅區': 3596, '潭子區': 4106, '神岡區': 2792, '豐原區': 7519, '大甲區': 2763, '外埔區': 1315, '大安區': 727, '后里區': 2196, '石岡區': 1206, '新社區': 1145, '東勢區': 1965, '和平區': 911}\n",
      "{'中區': 4244, '南區': 6539, '東區': 2733, '北區': 9846, '南屯區': 4944, '西屯區': 8325, '北屯區': 15547, '太平區': 7835, '大里區': 9420, '霧峰區': 3686, '烏日區': 3490, '大肚區': 1479, '龍井區': 3463, '梧棲區': 1931, '沙鹿區': 4425, '大雅區': 3422, '潭子區': 3717, '神岡區': 2794, '豐原區': 7220, '大甲區': 2737, '外埔區': 1256, '大安區': 783, '后里區': 2197, '石岡區': 1276, '新社區': 1125, '東勢區': 1888, '和平區': 833}\n",
      "{'中區': 4405, '南區': 6789, '東區': 2728, '北區': 11079, '南屯區': 5039, '西屯區': 8876, '北屯區': 16494, '太平區': 7169, '大里區': 9344, '霧峰區': 3656, '烏日區': 3418, '大肚區': 1422, '龍井區': 3438, '梧棲區': 1909, '沙鹿區': 4382, '大雅區': 3647, '潭子區': 3174, '神岡區': 2607, '豐原區': 7137, '大甲區': 2774, '外埔區': 1238, '大安區': 708, '后里區': 2078, '石岡區': 1146, '新社區': 1125, '東勢區': 1815, '和平區': 806}\n",
      "{'中區': 4630, '南區': 7196, '東區': 2957, '北區': 11462, '南屯區': 6066, '西屯區': 10007, '北屯區': 15919, '太平區': 7691, '大里區': 9473, '霧峰區': 3816, '烏日區': 3564, '大肚區': 1591, '龍井區': 3896, '梧棲區': 1986, '沙鹿區': 4888, '大雅區': 3912, '潭子區': 3365, '神岡區': 2536, '豐原區': 7387, '大甲區': 2835, '外埔區': 1343, '大安區': 778, '后里區': 2175, '石岡區': 1275, '新社區': 1222, '東勢區': 2011, '和平區': 911}\n",
      "{'中區': 4666, '南區': 7028, '東區': 3026, '北區': 11007, '南屯區': 6617, '西屯區': 10999, '北屯區': 16243, '太平區': 7802, '大里區': 10046, '霧峰區': 4138, '烏日區': 3682, '大肚區': 1651, '龍井區': 4236, '梧棲區': 1960, '沙鹿區': 4723, '大雅區': 3874, '潭子區': 5466, '神岡區': 2551, '豐原區': 7051, '大甲區': 2984, '外埔區': 1215, '大安區': 880, '后里區': 2742, '石岡區': 1131, '新社區': 1119, '東勢區': 2055, '和平區': 896}\n",
      "{'中區': 4653, '南區': 7205, '東區': 3178, '北區': 11169, '南屯區': 6890, '西屯區': 11496, '北屯區': 17909, '太平區': 7864, '大里區': 9851, '霧峰區': 3751, '烏日區': 3105, '大肚區': 1736, '龍井區': 4520, '梧棲區': 2010, '沙鹿區': 4906, '大雅區': 3793, '潭子區': 5514, '神岡區': 2529, '豐原區': 7414, '大甲區': 3090, '外埔區': 1321, '大安區': 874, '后里區': 2678, '石岡區': 1187, '新社區': 1119, '東勢區': 2290, '和平區': 808}\n",
      "{'中區': 4701, '南區': 7502, '東區': 3221, '北區': 11031, '南屯區': 6990, '西屯區': 11774, '北屯區': 18204, '太平區': 8134, '大里區': 9910, '霧峰區': 3949, '烏日區': 3070, '大肚區': 1607, '龍井區': 3995, '梧棲區': 2013, '沙鹿區': 4694, '大雅區': 4058, '潭子區': 5586, '神岡區': 2444, '豐原區': 7327, '大甲區': 3065, '外埔區': 1158, '大安區': 775, '后里區': 2908, '石岡區': 1108, '新社區': 1039, '東勢區': 2164, '和平區': 834}\n",
      "{'中區': 4582, '南區': 7387, '東區': 3302, '北區': 10867, '南屯區': 7328, '西屯區': 11912, '北屯區': 18878, '太平區': 7901, '大里區': 9804, '霧峰區': 3884, '烏日區': 3351, '大肚區': 1574, '龍井區': 4094, '梧棲區': 1974, '沙鹿區': 4571, '大雅區': 3633, '潭子區': 5767, '神岡區': 2511, '豐原區': 7129, '大甲區': 3088, '外埔區': 1240, '大安區': 807, '后里區': 2874, '石岡區': 1112, '新社區': 1120, '東勢區': 2155, '和平區': 852}\n",
      "{'中區': 4741, '南區': 7418, '東區': 291, '北區': 11203, '南屯區': 7774, '西屯區': 12043, '北屯區': 19014, '太平區': 8094, '大里區': 9905, '霧峰區': 3969, '烏日區': 4449, '大肚區': 1550, '龍井區': 3986, '梧棲區': 2036, '沙鹿區': 4727, '大雅區': 3288, '潭子區': 5667, '神岡區': 2495, '豐原區': 7359, '大甲區': 3068, '外埔區': 1246, '大安區': 850, '后里區': 2803, '石岡區': 1113, '新社區': 1128, '東勢區': 2195, '和平區': 868}\n",
      "{'中區': 4771, '南區': 7503, '東區': 0, '北區': 12038, '南屯區': 6668, '西屯區': 12343, '北屯區': 18321, '太平區': 7864, '大里區': 9988, '霧峰區': 4112, '烏日區': 4527, '大肚區': 1590, '龍井區': 4021, '梧棲區': 2046, '沙鹿區': 4849, '大雅區': 3313, '潭子區': 5583, '神岡區': 2445, '豐原區': 7688, '大甲區': 2711, '外埔區': 1536, '大安區': 917, '后里區': 2338, '石岡區': 1252, '新社區': 1053, '東勢區': 1925, '和平區': 873}\n",
      "{'中區': 4989, '南區': 8047, '東區': 971, '北區': 13302, '南屯區': 6381, '西屯區': 14751, '北屯區': 19410, '太平區': 7703, '大里區': 10499, '霧峰區': 4603, '烏日區': 4959, '大肚區': 1582, '龍井區': 4430, '梧棲區': 2410, '沙鹿區': 5136, '大雅區': 3301, '潭子區': 6269, '神岡區': 2662, '豐原區': 8421, '大甲區': 3156, '外埔區': 1710, '大安區': 1096, '后里區': 2426, '石岡區': 1379, '新社區': 727, '東勢區': 2125, '和平區': 932}\n",
      "{'中區': 4176, '南區': 6725, '東區': 2763, '北區': 10643, '南屯區': 5484, '西屯區': 12807, '北屯區': 15438, '太平區': 6713, '大里區': 8369, '霧峰區': 3471, '烏日區': 3911, '大肚區': 1231, '龍井區': 3638, '梧棲區': 1994, '沙鹿區': 4546, '大雅區': 2730, '潭子區': 4977, '神岡區': 2012, '豐原區': 6875, '大甲區': 2665, '外埔區': 1341, '大安區': 891, '后里區': 2031, '石岡區': 1072, '新社區': 1119, '東勢區': 1696, '和平區': 863}\n"
     ]
    }
   ],
   "source": [
    "for year in years:\n",
    "    District_sum_init = {k:0 for k in District_sum.keys()}\n",
    "    mask  = address_df['year'] == int(year)\n",
    "    class_Counter = function_api.count(address_df[mask], counter_colName)\n",
    "    # print(class_Counter)\n",
    "\n",
    "    team_data=address_df[mask][counter_colName].apply(lambda t: t[7:])\n",
    "    for item in team_data:\n",
    "        for item_dict in District_dict:\n",
    "            if item in District_dict[item_dict]:\n",
    "                District_sum_init[item_dict] += 1\n",
    "            else:\n",
    "                pass\n",
    "    print(District_sum_init)\n",
    "    \n",
    "    # df_District_sum = pd.DataFrame(list(District_sum_init.items()),columns=['District', 'Sum'], index=None)\n",
    "    # Taichung = taichung_town_shp.merge(df_District_sum, left_on=('TOWNNAME'), right_on=('District'))\n",
    "    # Taichung.head()\n",
    "    # fig, ax = plt.subplots(1, figsize=(30, 9), dpi=100)\n",
    "\n",
    "    # # Taichung.plot(figsize=(20, 8),column='Sum', cmap='OrRd', edgecolor='k')\n",
    "\n",
    "    # plt.rcParams['font.sans-serif'] = ['SimHei']\n",
    "    # plt.title('{} 年 各區救護出勤熱力圖'.format(year))\n",
    "    # taichung_town_shp['coords'] = taichung_town_shp['geometry'].apply(lambda x: x.representative_point().coords[0])\n",
    "\n",
    "    # # 地圖\n",
    "    # Taichung.plot(column='Sum', cmap='OrRd', scheme='FisherJenks', linewidth=0.5, edgecolor='0.5', ax=ax) # pip install mapclassify\n",
    "    # ax.axis('off')\n",
    "\n",
    "    # # 地圖標註\n",
    "    # for n, i in enumerate(taichung_town_shp['coords']):\n",
    "    #     plt.text(i[0] - 0.02, i[1], taichung_town_shp['TOWNNAME'][n])  # 標註位置X，Y，標註内容\n",
    "\n",
    "    # # 範圍條圖\n",
    "    # sm = plt.cm.ScalarMappable(cmap='OrRd')\n",
    "    # cbar = fig.colorbar(sm)\n",
    "    # bins = mapclassify.FisherJenks(Taichung['Sum'], 5).bins\n",
    "    # bins = np.insert(bins, 0, 0)\n",
    "    # _ = cbar.ax.set_yticklabels(bins)\n",
    "    "
   ]
  },
  {
   "attachments": {},
   "cell_type": "markdown",
   "metadata": {},
   "source": [
    "#### 檢傷分類"
   ]
  },
  {
   "cell_type": "code",
   "execution_count": null,
   "metadata": {},
   "outputs": [],
   "source": []
  },
  {
   "attachments": {},
   "cell_type": "markdown",
   "metadata": {},
   "source": [
    "#### 地址轉換經緯度"
   ]
  },
  {
   "cell_type": "code",
   "execution_count": 4,
   "metadata": {},
   "outputs": [
    {
     "name": "stdout",
     "output_type": "stream",
     "text": [
      "中市東區富榮街52號2樓-2\t剩餘筆數 :1638245\n",
      "使用的Proxy IP：103.106.219.141:8080\n",
      "120.68705411498894 24.1457521843\n",
      "尚武路70號\t剩餘筆數 :1638244\n",
      "使用的Proxy IP：103.106.219.141:8080\n"
     ]
    },
    {
     "ename": "KeyboardInterrupt",
     "evalue": "",
     "output_type": "error",
     "traceback": [
      "\u001b[1;31m---------------------------------------------------------------------------\u001b[0m",
      "\u001b[1;31mTimeoutError\u001b[0m                              Traceback (most recent call last)",
      "File \u001b[1;32mc:\\Users\\User\\AppData\\Local\\Programs\\Python\\Python39\\lib\\site-packages\\urllib3\\util\\connection.py:85\u001b[0m, in \u001b[0;36mcreate_connection\u001b[1;34m(address, timeout, source_address, socket_options)\u001b[0m\n\u001b[0;32m     84\u001b[0m     sock\u001b[39m.\u001b[39mbind(source_address)\n\u001b[1;32m---> 85\u001b[0m sock\u001b[39m.\u001b[39;49mconnect(sa)\n\u001b[0;32m     86\u001b[0m \u001b[39mreturn\u001b[39;00m sock\n",
      "\u001b[1;31mTimeoutError\u001b[0m: [WinError 10060] 連線嘗試失敗，因為連線對象有一段時間並未正確回應，或是連線建立失敗，因為連線的主機無法回應。",
      "\nDuring handling of the above exception, another exception occurred:\n",
      "\u001b[1;31mKeyboardInterrupt\u001b[0m                         Traceback (most recent call last)",
      "Cell \u001b[1;32mIn[4], line 16\u001b[0m\n\u001b[0;32m     13\u001b[0m     address_df[\u001b[39m\"\u001b[39m\u001b[39mlatitude\u001b[39m\u001b[39m\"\u001b[39m] \u001b[39m=\u001b[39m \u001b[39mNone\u001b[39;00m\n\u001b[0;32m     14\u001b[0m \u001b[39melse\u001b[39;00m:\n\u001b[0;32m     15\u001b[0m     \u001b[39m# print(test.location(adr))\u001b[39;00m\n\u001b[1;32m---> 16\u001b[0m     latitude, longitude \u001b[39m=\u001b[39m function_api\u001b[39m.\u001b[39;49mlocation(proxy_ips, adr)\n\u001b[0;32m     17\u001b[0m     address_df[\u001b[39m\"\u001b[39m\u001b[39mlongitude\u001b[39m\u001b[39m\"\u001b[39m] \u001b[39m=\u001b[39m longitude\n\u001b[0;32m     18\u001b[0m     address_df[\u001b[39m\"\u001b[39m\u001b[39mlatitude\u001b[39m\u001b[39m\"\u001b[39m] \u001b[39m=\u001b[39m latitude   \n",
      "File \u001b[1;32mc:\\Users\\User\\Desktop\\Ambulance-data-analysis\\Taichung\\code\\function_api.py:83\u001b[0m, in \u001b[0;36mlocation\u001b[1;34m(proxy, address)\u001b[0m\n\u001b[0;32m     80\u001b[0m url\u001b[39m=\u001b[39m\u001b[39m'\u001b[39m\u001b[39mhttps://www.google.com/maps/place?q=\u001b[39m\u001b[39m'\u001b[39m \u001b[39m+\u001b[39m address\n\u001b[0;32m     81\u001b[0m time\u001b[39m.\u001b[39msleep(random\u001b[39m.\u001b[39mrandint(\u001b[39m7\u001b[39m,\u001b[39m25\u001b[39m))\n\u001b[1;32m---> 83\u001b[0m response \u001b[39m=\u001b[39m requests\u001b[39m.\u001b[39;49mget(url, proxies\u001b[39m=\u001b[39;49m{\u001b[39m'\u001b[39;49m\u001b[39mhttp\u001b[39;49m\u001b[39m'\u001b[39;49m: \u001b[39mf\u001b[39;49m\u001b[39m'\u001b[39;49m\u001b[39m{\u001b[39;49;00mproxy_ip\u001b[39m}\u001b[39;49;00m\u001b[39m'\u001b[39;49m, \u001b[39m'\u001b[39;49m\u001b[39mhttps\u001b[39;49m\u001b[39m'\u001b[39;49m: \u001b[39mf\u001b[39;49m\u001b[39m'\u001b[39;49m\u001b[39m{\u001b[39;49;00mproxy_ip\u001b[39m}\u001b[39;49;00m\u001b[39m'\u001b[39;49m})\n\u001b[0;32m     84\u001b[0m soup \u001b[39m=\u001b[39m BeautifulSoup(response\u001b[39m.\u001b[39mtext, \u001b[39m\"\u001b[39m\u001b[39mhtml.parser\u001b[39m\u001b[39m\"\u001b[39m)\n\u001b[0;32m     86\u001b[0m text \u001b[39m=\u001b[39m soup\u001b[39m.\u001b[39mprettify() \u001b[39m#text 包含了html的內容\u001b[39;00m\n",
      "File \u001b[1;32mc:\\Users\\User\\AppData\\Local\\Programs\\Python\\Python39\\lib\\site-packages\\requests\\api.py:73\u001b[0m, in \u001b[0;36mget\u001b[1;34m(url, params, **kwargs)\u001b[0m\n\u001b[0;32m     62\u001b[0m \u001b[39mdef\u001b[39;00m \u001b[39mget\u001b[39m(url, params\u001b[39m=\u001b[39m\u001b[39mNone\u001b[39;00m, \u001b[39m*\u001b[39m\u001b[39m*\u001b[39mkwargs):\n\u001b[0;32m     63\u001b[0m \u001b[39m    \u001b[39m\u001b[39mr\u001b[39m\u001b[39m\"\"\"Sends a GET request.\u001b[39;00m\n\u001b[0;32m     64\u001b[0m \n\u001b[0;32m     65\u001b[0m \u001b[39m    :param url: URL for the new :class:`Request` object.\u001b[39;00m\n\u001b[1;32m   (...)\u001b[0m\n\u001b[0;32m     70\u001b[0m \u001b[39m    :rtype: requests.Response\u001b[39;00m\n\u001b[0;32m     71\u001b[0m \u001b[39m    \"\"\"\u001b[39;00m\n\u001b[1;32m---> 73\u001b[0m     \u001b[39mreturn\u001b[39;00m request(\u001b[39m\"\u001b[39m\u001b[39mget\u001b[39m\u001b[39m\"\u001b[39m, url, params\u001b[39m=\u001b[39mparams, \u001b[39m*\u001b[39m\u001b[39m*\u001b[39mkwargs)\n",
      "File \u001b[1;32mc:\\Users\\User\\AppData\\Local\\Programs\\Python\\Python39\\lib\\site-packages\\requests\\api.py:59\u001b[0m, in \u001b[0;36mrequest\u001b[1;34m(method, url, **kwargs)\u001b[0m\n\u001b[0;32m     55\u001b[0m \u001b[39m# By using the 'with' statement we are sure the session is closed, thus we\u001b[39;00m\n\u001b[0;32m     56\u001b[0m \u001b[39m# avoid leaving sockets open which can trigger a ResourceWarning in some\u001b[39;00m\n\u001b[0;32m     57\u001b[0m \u001b[39m# cases, and look like a memory leak in others.\u001b[39;00m\n\u001b[0;32m     58\u001b[0m \u001b[39mwith\u001b[39;00m sessions\u001b[39m.\u001b[39mSession() \u001b[39mas\u001b[39;00m session:\n\u001b[1;32m---> 59\u001b[0m     \u001b[39mreturn\u001b[39;00m session\u001b[39m.\u001b[39mrequest(method\u001b[39m=\u001b[39mmethod, url\u001b[39m=\u001b[39murl, \u001b[39m*\u001b[39m\u001b[39m*\u001b[39mkwargs)\n",
      "File \u001b[1;32mc:\\Users\\User\\AppData\\Local\\Programs\\Python\\Python39\\lib\\site-packages\\requests\\sessions.py:587\u001b[0m, in \u001b[0;36mSession.request\u001b[1;34m(self, method, url, params, data, headers, cookies, files, auth, timeout, allow_redirects, proxies, hooks, stream, verify, cert, json)\u001b[0m\n\u001b[0;32m    582\u001b[0m send_kwargs \u001b[39m=\u001b[39m {\n\u001b[0;32m    583\u001b[0m     \u001b[39m\"\u001b[39m\u001b[39mtimeout\u001b[39m\u001b[39m\"\u001b[39m: timeout,\n\u001b[0;32m    584\u001b[0m     \u001b[39m\"\u001b[39m\u001b[39mallow_redirects\u001b[39m\u001b[39m\"\u001b[39m: allow_redirects,\n\u001b[0;32m    585\u001b[0m }\n\u001b[0;32m    586\u001b[0m send_kwargs\u001b[39m.\u001b[39mupdate(settings)\n\u001b[1;32m--> 587\u001b[0m resp \u001b[39m=\u001b[39m \u001b[39mself\u001b[39m\u001b[39m.\u001b[39msend(prep, \u001b[39m*\u001b[39m\u001b[39m*\u001b[39msend_kwargs)\n\u001b[0;32m    589\u001b[0m \u001b[39mreturn\u001b[39;00m resp\n",
      "File \u001b[1;32mc:\\Users\\User\\AppData\\Local\\Programs\\Python\\Python39\\lib\\site-packages\\requests\\sessions.py:701\u001b[0m, in \u001b[0;36mSession.send\u001b[1;34m(self, request, **kwargs)\u001b[0m\n\u001b[0;32m    698\u001b[0m start \u001b[39m=\u001b[39m preferred_clock()\n\u001b[0;32m    700\u001b[0m \u001b[39m# Send the request\u001b[39;00m\n\u001b[1;32m--> 701\u001b[0m r \u001b[39m=\u001b[39m adapter\u001b[39m.\u001b[39msend(request, \u001b[39m*\u001b[39m\u001b[39m*\u001b[39mkwargs)\n\u001b[0;32m    703\u001b[0m \u001b[39m# Total elapsed time of the request (approximately)\u001b[39;00m\n\u001b[0;32m    704\u001b[0m elapsed \u001b[39m=\u001b[39m preferred_clock() \u001b[39m-\u001b[39m start\n",
      "File \u001b[1;32mc:\\Users\\User\\AppData\\Local\\Programs\\Python\\Python39\\lib\\site-packages\\requests\\adapters.py:489\u001b[0m, in \u001b[0;36mHTTPAdapter.send\u001b[1;34m(self, request, stream, timeout, verify, cert, proxies)\u001b[0m\n\u001b[0;32m    487\u001b[0m \u001b[39mtry\u001b[39;00m:\n\u001b[0;32m    488\u001b[0m     \u001b[39mif\u001b[39;00m \u001b[39mnot\u001b[39;00m chunked:\n\u001b[1;32m--> 489\u001b[0m         resp \u001b[39m=\u001b[39m conn\u001b[39m.\u001b[39;49murlopen(\n\u001b[0;32m    490\u001b[0m             method\u001b[39m=\u001b[39;49mrequest\u001b[39m.\u001b[39;49mmethod,\n\u001b[0;32m    491\u001b[0m             url\u001b[39m=\u001b[39;49murl,\n\u001b[0;32m    492\u001b[0m             body\u001b[39m=\u001b[39;49mrequest\u001b[39m.\u001b[39;49mbody,\n\u001b[0;32m    493\u001b[0m             headers\u001b[39m=\u001b[39;49mrequest\u001b[39m.\u001b[39;49mheaders,\n\u001b[0;32m    494\u001b[0m             redirect\u001b[39m=\u001b[39;49m\u001b[39mFalse\u001b[39;49;00m,\n\u001b[0;32m    495\u001b[0m             assert_same_host\u001b[39m=\u001b[39;49m\u001b[39mFalse\u001b[39;49;00m,\n\u001b[0;32m    496\u001b[0m             preload_content\u001b[39m=\u001b[39;49m\u001b[39mFalse\u001b[39;49;00m,\n\u001b[0;32m    497\u001b[0m             decode_content\u001b[39m=\u001b[39;49m\u001b[39mFalse\u001b[39;49;00m,\n\u001b[0;32m    498\u001b[0m             retries\u001b[39m=\u001b[39;49m\u001b[39mself\u001b[39;49m\u001b[39m.\u001b[39;49mmax_retries,\n\u001b[0;32m    499\u001b[0m             timeout\u001b[39m=\u001b[39;49mtimeout,\n\u001b[0;32m    500\u001b[0m         )\n\u001b[0;32m    502\u001b[0m     \u001b[39m# Send the request.\u001b[39;00m\n\u001b[0;32m    503\u001b[0m     \u001b[39melse\u001b[39;00m:\n\u001b[0;32m    504\u001b[0m         \u001b[39mif\u001b[39;00m \u001b[39mhasattr\u001b[39m(conn, \u001b[39m\"\u001b[39m\u001b[39mproxy_pool\u001b[39m\u001b[39m\"\u001b[39m):\n",
      "File \u001b[1;32mc:\\Users\\User\\AppData\\Local\\Programs\\Python\\Python39\\lib\\site-packages\\urllib3\\connectionpool.py:700\u001b[0m, in \u001b[0;36mHTTPConnectionPool.urlopen\u001b[1;34m(self, method, url, body, headers, retries, redirect, assert_same_host, timeout, pool_timeout, release_conn, chunked, body_pos, **response_kw)\u001b[0m\n\u001b[0;32m    696\u001b[0m is_new_proxy_conn \u001b[39m=\u001b[39m \u001b[39mself\u001b[39m\u001b[39m.\u001b[39mproxy \u001b[39mis\u001b[39;00m \u001b[39mnot\u001b[39;00m \u001b[39mNone\u001b[39;00m \u001b[39mand\u001b[39;00m \u001b[39mnot\u001b[39;00m \u001b[39mgetattr\u001b[39m(\n\u001b[0;32m    697\u001b[0m     conn, \u001b[39m\"\u001b[39m\u001b[39msock\u001b[39m\u001b[39m\"\u001b[39m, \u001b[39mNone\u001b[39;00m\n\u001b[0;32m    698\u001b[0m )\n\u001b[0;32m    699\u001b[0m \u001b[39mif\u001b[39;00m is_new_proxy_conn \u001b[39mand\u001b[39;00m http_tunnel_required:\n\u001b[1;32m--> 700\u001b[0m     \u001b[39mself\u001b[39;49m\u001b[39m.\u001b[39;49m_prepare_proxy(conn)\n\u001b[0;32m    702\u001b[0m \u001b[39m# Make the request on the httplib connection object.\u001b[39;00m\n\u001b[0;32m    703\u001b[0m httplib_response \u001b[39m=\u001b[39m \u001b[39mself\u001b[39m\u001b[39m.\u001b[39m_make_request(\n\u001b[0;32m    704\u001b[0m     conn,\n\u001b[0;32m    705\u001b[0m     method,\n\u001b[1;32m   (...)\u001b[0m\n\u001b[0;32m    710\u001b[0m     chunked\u001b[39m=\u001b[39mchunked,\n\u001b[0;32m    711\u001b[0m )\n",
      "File \u001b[1;32mc:\\Users\\User\\AppData\\Local\\Programs\\Python\\Python39\\lib\\site-packages\\urllib3\\connectionpool.py:996\u001b[0m, in \u001b[0;36mHTTPSConnectionPool._prepare_proxy\u001b[1;34m(self, conn)\u001b[0m\n\u001b[0;32m    993\u001b[0m \u001b[39mif\u001b[39;00m \u001b[39mself\u001b[39m\u001b[39m.\u001b[39mproxy\u001b[39m.\u001b[39mscheme \u001b[39m==\u001b[39m \u001b[39m\"\u001b[39m\u001b[39mhttps\u001b[39m\u001b[39m\"\u001b[39m:\n\u001b[0;32m    994\u001b[0m     conn\u001b[39m.\u001b[39mtls_in_tls_required \u001b[39m=\u001b[39m \u001b[39mTrue\u001b[39;00m\n\u001b[1;32m--> 996\u001b[0m conn\u001b[39m.\u001b[39;49mconnect()\n",
      "File \u001b[1;32mc:\\Users\\User\\AppData\\Local\\Programs\\Python\\Python39\\lib\\site-packages\\urllib3\\connection.py:363\u001b[0m, in \u001b[0;36mHTTPSConnection.connect\u001b[1;34m(self)\u001b[0m\n\u001b[0;32m    361\u001b[0m \u001b[39mdef\u001b[39;00m \u001b[39mconnect\u001b[39m(\u001b[39mself\u001b[39m):\n\u001b[0;32m    362\u001b[0m     \u001b[39m# Add certificate verification\u001b[39;00m\n\u001b[1;32m--> 363\u001b[0m     \u001b[39mself\u001b[39m\u001b[39m.\u001b[39msock \u001b[39m=\u001b[39m conn \u001b[39m=\u001b[39m \u001b[39mself\u001b[39;49m\u001b[39m.\u001b[39;49m_new_conn()\n\u001b[0;32m    364\u001b[0m     hostname \u001b[39m=\u001b[39m \u001b[39mself\u001b[39m\u001b[39m.\u001b[39mhost\n\u001b[0;32m    365\u001b[0m     tls_in_tls \u001b[39m=\u001b[39m \u001b[39mFalse\u001b[39;00m\n",
      "File \u001b[1;32mc:\\Users\\User\\AppData\\Local\\Programs\\Python\\Python39\\lib\\site-packages\\urllib3\\connection.py:174\u001b[0m, in \u001b[0;36mHTTPConnection._new_conn\u001b[1;34m(self)\u001b[0m\n\u001b[0;32m    171\u001b[0m     extra_kw[\u001b[39m\"\u001b[39m\u001b[39msocket_options\u001b[39m\u001b[39m\"\u001b[39m] \u001b[39m=\u001b[39m \u001b[39mself\u001b[39m\u001b[39m.\u001b[39msocket_options\n\u001b[0;32m    173\u001b[0m \u001b[39mtry\u001b[39;00m:\n\u001b[1;32m--> 174\u001b[0m     conn \u001b[39m=\u001b[39m connection\u001b[39m.\u001b[39mcreate_connection(\n\u001b[0;32m    175\u001b[0m         (\u001b[39mself\u001b[39m\u001b[39m.\u001b[39m_dns_host, \u001b[39mself\u001b[39m\u001b[39m.\u001b[39mport), \u001b[39mself\u001b[39m\u001b[39m.\u001b[39mtimeout, \u001b[39m*\u001b[39m\u001b[39m*\u001b[39mextra_kw\n\u001b[0;32m    176\u001b[0m     )\n\u001b[0;32m    178\u001b[0m \u001b[39mexcept\u001b[39;00m SocketTimeout:\n\u001b[0;32m    179\u001b[0m     \u001b[39mraise\u001b[39;00m ConnectTimeoutError(\n\u001b[0;32m    180\u001b[0m         \u001b[39mself\u001b[39m,\n\u001b[0;32m    181\u001b[0m         \u001b[39m\"\u001b[39m\u001b[39mConnection to \u001b[39m\u001b[39m%s\u001b[39;00m\u001b[39m timed out. (connect timeout=\u001b[39m\u001b[39m%s\u001b[39;00m\u001b[39m)\u001b[39m\u001b[39m\"\u001b[39m\n\u001b[0;32m    182\u001b[0m         \u001b[39m%\u001b[39m (\u001b[39mself\u001b[39m\u001b[39m.\u001b[39mhost, \u001b[39mself\u001b[39m\u001b[39m.\u001b[39mtimeout),\n\u001b[0;32m    183\u001b[0m     )\n",
      "File \u001b[1;32mc:\\Users\\User\\AppData\\Local\\Programs\\Python\\Python39\\lib\\site-packages\\urllib3\\util\\connection.py:85\u001b[0m, in \u001b[0;36mcreate_connection\u001b[1;34m(address, timeout, source_address, socket_options)\u001b[0m\n\u001b[0;32m     83\u001b[0m     \u001b[39mif\u001b[39;00m source_address:\n\u001b[0;32m     84\u001b[0m         sock\u001b[39m.\u001b[39mbind(source_address)\n\u001b[1;32m---> 85\u001b[0m     sock\u001b[39m.\u001b[39;49mconnect(sa)\n\u001b[0;32m     86\u001b[0m     \u001b[39mreturn\u001b[39;00m sock\n\u001b[0;32m     88\u001b[0m \u001b[39mexcept\u001b[39;00m socket\u001b[39m.\u001b[39merror \u001b[39mas\u001b[39;00m e:\n",
      "\u001b[1;31mKeyboardInterrupt\u001b[0m: "
     ]
    }
   ],
   "source": [
    "address = address_df['eSceneT01']\n",
    "total = len(address)\n",
    "\n",
    "with open('proxy_list.txt', 'r') as file:\n",
    "    proxy_ips = file.read().splitlines()\n",
    "\n",
    "for adr in address:\n",
    "    adr = str(adr)\n",
    "    total -= 1\n",
    "    print(adr + '\\t' + '剩餘筆數 :' + str(total))\n",
    "    if adr == 'nan':\n",
    "        address_df[\"longitude\"] = None\n",
    "        address_df[\"latitude\"] = None\n",
    "    else:\n",
    "        # print(test.location(adr))\n",
    "        latitude, longitude = function_api.location(proxy_ips, adr)\n",
    "        address_df[\"longitude\"] = longitude\n",
    "        address_df[\"latitude\"] = latitude   \n",
    "        address_df.to_csv('../part2/merge.csv', index=False)\n",
    "   "
   ]
  }
 ],
 "metadata": {
  "kernelspec": {
   "display_name": "Python 3",
   "language": "python",
   "name": "python3"
  },
  "language_info": {
   "codemirror_mode": {
    "name": "ipython",
    "version": 3
   },
   "file_extension": ".py",
   "mimetype": "text/x-python",
   "name": "python",
   "nbconvert_exporter": "python",
   "pygments_lexer": "ipython3",
   "version": "3.8.10"
  },
  "orig_nbformat": 4
 },
 "nbformat": 4,
 "nbformat_minor": 2
}
