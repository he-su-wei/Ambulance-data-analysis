{
 "cells": [
  {
   "cell_type": "code",
   "execution_count": 2,
   "metadata": {},
   "outputs": [],
   "source": [
    "import pandas as pd\n",
    "import os"
   ]
  },
  {
   "cell_type": "code",
   "execution_count": 3,
   "metadata": {},
   "outputs": [],
   "source": [
    "dir = '../part1/'\n",
    "data_basic_path = '../year/'\n",
    "years = os.listdir(data_basic_path)"
   ]
  },
  {
   "attachments": {},
   "cell_type": "markdown",
   "metadata": {},
   "source": [
    "### 提取取各年之年齡 (part1/age_cocncat.csv)"
   ]
  },
  {
   "cell_type": "code",
   "execution_count": 42,
   "metadata": {},
   "outputs": [
    {
     "name": "stdout",
     "output_type": "stream",
     "text": [
      "2011 Concating Please wait . . . .\n",
      "2012 Concating Please wait . . . .\n",
      "2013 Concating Please wait . . . .\n",
      "2014 Concating Please wait . . . .\n",
      "2015 Concating Please wait . . . .\n",
      "2016 Concating Please wait . . . .\n",
      "2017 Concating Please wait . . . .\n",
      "2018 Concating Please wait . . . .\n",
      "2019 Concating Please wait . . . .\n",
      "2020 Concating Please wait . . . .\n",
      "2021 Concating Please wait . . . .\n",
      "2022 Concating Please wait . . . .\n",
      "Success\n"
     ]
    }
   ],
   "source": [
    "df = pd.DataFrame()\n",
    "\n",
    "for year in years:\n",
    "    print(year + ' Concating Please wait'+ ' . . . .'  )\n",
    "    data = pd.read_csv(data_basic_path +  year + '/' + 'ePatient.csv', usecols=['eRecordT01', 'ePatientT04'])\n",
    "    data[\"year\"] = year\n",
    "    data = data[['year','eRecordT01','ePatientT04']]\n",
    "\n",
    "    # data = pd.read_csv(file, low_memory=False)\n",
    "    df = pd.concat([df, data], axis=0)\n",
    "\n",
    "concat_path_file = dir + \"/{}_concat.csv\".format('age')\n",
    "df.to_csv(concat_path_file, index=False)\n",
    "print('Success')\n"
   ]
  },
  {
   "attachments": {},
   "cell_type": "markdown",
   "metadata": {},
   "source": [
    "### 數據處理"
   ]
  },
  {
   "attachments": {},
   "cell_type": "markdown",
   "metadata": {},
   "source": [
    "##### 統計各年齡資料筆數"
   ]
  },
  {
   "cell_type": "code",
   "execution_count": 4,
   "metadata": {},
   "outputs": [],
   "source": [
    "from collections import Counter\n",
    "\n",
    "age_df = pd.read_csv('../part1/age_concat.csv')"
   ]
  },
  {
   "cell_type": "code",
   "execution_count": 5,
   "metadata": {},
   "outputs": [],
   "source": [
    "def count(dataFram):\n",
    "    class_Counter = Counter(dataFram[\"ePatientT04\"])\n",
    "    # age_range = age_df['ePatientT04'].value_counts() // .value_counts() 不好取值\n",
    "    return class_Counter"
   ]
  },
  {
   "attachments": {},
   "cell_type": "markdown",
   "metadata": {},
   "source": [
    "##### 統計年齡分段"
   ]
  },
  {
   "cell_type": "code",
   "execution_count": 6,
   "metadata": {},
   "outputs": [],
   "source": [
    "# 統計年齡分段 => class_Counter = 個年齡總數 、type = dict\n",
    "def ageRange_sum(class_Counter):\n",
    "    young_children, children, teenageers, youth, middle_age, old_age, other_01, other_03 = 0, 0, 0, 0, 0, 0, class_Counter[7701001], class_Counter[7701003]\n",
    "\n",
    "    for age in class_Counter:\n",
    "        if age >= 0 and age <= 6: # 嬰幼兒 0~6\n",
    "            young_children += class_Counter[age]\n",
    "        elif age >= 7 and age <= 12: # 少年 7~12\n",
    "            children += class_Counter[age]\n",
    "        elif age >= 13 and age <= 17: # 青少年 13~17\n",
    "            teenageers += class_Counter[age]\n",
    "        elif age >= 18 and age <= 45: # 青年 18~45\n",
    "            youth += class_Counter[age]\n",
    "        elif age >= 46 and age <= 69: # 中年 45~69\n",
    "            middle_age += class_Counter[age]\n",
    "        elif age > 69: # 老年 \n",
    "            old_age += class_Counter[age]\n",
    "\n",
    "    type_sum = [young_children, children, teenageers, youth, middle_age, old_age, other_01, other_03]\n",
    "    return type_sum"
   ]
  },
  {
   "cell_type": "code",
   "execution_count": 7,
   "metadata": {},
   "outputs": [],
   "source": [
    "##### 區間建立\n",
    "age_type = ['0 ~ 6', '7 ~ 12', '13 ~ 17', '18 ~ 45', '45 ~ 69', '>= 69', 'other_01', 'other_03']\n",
    "##### 每年總數 [] * 12\n",
    "year_type_sum = []"
   ]
  },
  {
   "attachments": {},
   "cell_type": "markdown",
   "metadata": {},
   "source": [
    "##### 12 年年齡總筆數"
   ]
  },
  {
   "cell_type": "code",
   "execution_count": 10,
   "metadata": {},
   "outputs": [
    {
     "name": "stdout",
     "output_type": "stream",
     "text": [
      "Counter({7701003: 206018, 20: 38395, 19: 36185, 21: 32024, 18: 31320, 22: 28867, 23: 27247, 50: 27012, 60: 26579, 25: 25725, 24: 25390, 40: 22795, 30: 22139, 26: 21684, 70: 20963, 55: 20317, 65: 20157, 28: 19729, 27: 19705, 80: 19583, 58: 18606, 56: 18469, 45: 18418, 35: 18197, 53: 18057, 52: 17934, 57: 17854, 62: 17683, 63: 17508, 54: 17407, 64: 16865, 61: 16814, 38: 16760, 32: 16739, 36: 16708, 48: 16665, 29: 16505, 42: 16494, 51: 16416, 37: 16151, 68: 16102, 43: 16036, 34: 16031, 31: 15962, 47: 15866, 33: 15801, 46: 15744, 67: 15724, 66: 15531, 59: 15248, 82: 15123, 78: 15106, 75: 15065, 72: 14895, 83: 14824, 44: 14783, 85: 14712, 7701001: 14618, 41: 14602, 73: 14533, 84: 14261, 49: 14224, 76: 14086, 81: 13996, 74: 13901, 39: 13705, 71: 13611, 86: 13410, 77: 13409, 69: 12985, 87: 11799, 88: 11777, 90: 11733, 17: 11726, 79: 11659, 16: 8660, 89: 8370, 91: 7487, 92: 6644, 15: 6082, 93: 5319, 14: 4606, 94: 3966, 2: 3847, 13: 3659, 1: 3387, 95: 3376, 12: 3230, 3: 3200, 10: 2554, 4: 2465, 96: 2450, 11: 2369, 5: 2304, 8: 2156, 6: 2083, 9: 2015, 7: 1986, 97: 1716, 98: 1344, 100: 691, 99: 683, 101: 288, 102: 222, 103: 141, 105: 67, 104: 65, 0: 42, 106: 35, 107: 14, 108: 6, 109: 5, 647: 2, -53: 2, 118: 2, 858: 2, 836: 1, 401: 1, 446: 1, 369: 1, 270: 1, 690: 1, 391: 1, 801: 1, 132: 1, 220: 1, 211: 1, 114: 1, 414: 1, 227: 1, 487: 1, 313: 1, 222: 1, 335: 1, 120: 1, 410: 1, 381: 1, 182: 1, 157: 1, 266: 1, 425: 1, 367: 1, 129: 1, 660: 1, 137: 1, 135: 1, 387: 1, 110: 1})\n"
     ]
    }
   ],
   "source": [
    "class_Counter = count(age_df)\n",
    "print(class_Counter)\n",
    "type_sum = ageRange_sum(class_Counter)\n",
    "year_type_sum.append(type_sum)"
   ]
  },
  {
   "attachments": {},
   "cell_type": "markdown",
   "metadata": {},
   "source": [
    "#### 個年年齡比數"
   ]
  },
  {
   "cell_type": "code",
   "execution_count": 8,
   "metadata": {},
   "outputs": [
    {
     "name": "stdout",
     "output_type": "stream",
     "text": [
      "Counter({7701003: 29811, 19: 2925, 20: 2787, 18: 2578, 21: 2307, 22: 1913, 23: 1884, 50: 1793, 30: 1651, 25: 1607, 60: 1590, 24: 1539, 45: 1481, 28: 1466, 55: 1443, 26: 1406, 40: 1393, 27: 1355, 56: 1322, 52: 1318, 48: 1315, 35: 1312, 36: 1309, 43: 1306, 51: 1302, 46: 1289, 47: 1288, 53: 1284, 80: 1284, 58: 1280, 31: 1272, 42: 1272, 33: 1230, 49: 1207, 32: 1207, 34: 1204, 29: 1202, 57: 1181, 44: 1172, 38: 1164, 54: 1131, 37: 1110, 41: 1105, 70: 1082, 82: 1079, 17: 1070, 83: 1065, 81: 1057, 84: 1054, 61: 1029, 62: 1028, 59: 993, 78: 969, 39: 961, 85: 953, 63: 932, 75: 923, 65: 906, 76: 905, 72: 886, 73: 860, 77: 858, 68: 856, 86: 835, 74: 833, 64: 809, 71: 787, 16: 762, 79: 757, 67: 728, 69: 703, 87: 647, 88: 644, 66: 633, 15: 607, 90: 545, 14: 412, 89: 398, 91: 353, 92: 299, 12: 293, 13: 289, 11: 256, 2: 245, 10: 231, 8: 225, 3: 221, 93: 205, 9: 198, 1: 185, 4: 178, 7: 173, 5: 168, 6: 153, 94: 152, 95: 134, 96: 106, 97: 70, 98: 69, 100: 27, 99: 26, 101: 16, 102: 13, 103: 7, 0: 3, 836: 1, 105: 1, 401: 1, 108: 1})\n",
      "Counter({7701003: 22599, 20: 3040, 19: 2882, 18: 2596, 21: 2372, 22: 2103, 50: 2007, 23: 1873, 30: 1845, 25: 1760, 60: 1736, 24: 1734, 40: 1639, 26: 1485, 56: 1480, 31: 1450, 28: 1439, 53: 1438, 52: 1427, 27: 1406, 51: 1405, 35: 1381, 45: 1371, 32: 1368, 55: 1367, 48: 1348, 80: 1334, 33: 1318, 57: 1314, 42: 1296, 46: 1292, 29: 1274, 37: 1271, 47: 1270, 82: 1254, 36: 1249, 58: 1249, 61: 1243, 54: 1232, 43: 1223, 34: 1218, 49: 1208, 38: 1204, 44: 1185, 62: 1155, 70: 1150, 81: 1122, 83: 1093, 17: 1081, 65: 1078, 63: 1054, 59: 1054, 76: 1030, 84: 1025, 85: 1004, 41: 995, 78: 994, 73: 977, 75: 970, 72: 958, 64: 954, 39: 909, 86: 907, 74: 899, 77: 887, 71: 851, 16: 814, 68: 797, 66: 785, 67: 779, 87: 772, 79: 735, 88: 700, 69: 676, 15: 630, 90: 589, 89: 416, 14: 407, 91: 384, 92: 355, 12: 325, 13: 324, 2: 258, 1: 230, 3: 228, 10: 221, 93: 213, 11: 212, 8: 189, 9: 182, 5: 182, 4: 180, 6: 175, 7: 160, 94: 156, 95: 128, 96: 116, 97: 78, 98: 70, 100: 31, 99: 31, 101: 12, 102: 10, 103: 6, 104: 4, 105: 3, 647: 1, 446: 1, 369: 1, 270: 1, 0: 1, 690: 1, 391: 1})\n",
      "Counter({7701003: 21088, 20: 3252, 19: 3044, 18: 2803, 21: 2491, 22: 2392, 50: 2254, 23: 2111, 25: 2024, 60: 1882, 24: 1854, 30: 1815, 40: 1753, 26: 1588, 45: 1537, 32: 1519, 28: 1494, 55: 1487, 62: 1481, 52: 1462, 35: 1441, 82: 1393, 53: 1387, 27: 1375, 80: 1364, 57: 1356, 48: 1350, 58: 1343, 47: 1326, 37: 1318, 42: 1303, 31: 1294, 34: 1291, 70: 1260, 38: 1260, 56: 1260, 51: 1253, 54: 1251, 65: 1241, 43: 1236, 46: 1234, 29: 1232, 83: 1223, 33: 1215, 36: 1186, 63: 1174, 44: 1163, 61: 1148, 85: 1122, 78: 1115, 17: 1083, 84: 1070, 49: 1068, 75: 1044, 64: 1028, 59: 1023, 72: 1011, 86: 992, 39: 989, 81: 985, 41: 978, 76: 935, 77: 900, 73: 900, 74: 899, 88: 863, 67: 857, 68: 849, 87: 845, 66: 822, 16: 782, 71: 750, 79: 709, 69: 704, 90: 641, 15: 525, 89: 515, 14: 444, 91: 400, 13: 371, 92: 367, 12: 300, 2: 294, 93: 258, 10: 239, 1: 236, 3: 208, 11: 195, 5: 189, 4: 185, 7: 178, 8: 174, 94: 171, 9: 168, 6: 147, 95: 137, 96: 121, 97: 77, 98: 63, 100: 39, 99: 31, 103: 10, 101: 8, 102: 7, 106: 5, 104: 4, 0: 3, 801: 1, 132: 1, -53: 1, 109: 1, 107: 1})\n",
      "Counter({7701003: 20320, 20: 3450, 19: 3183, 18: 2848, 21: 2765, 22: 2415, 50: 2385, 23: 2325, 24: 2150, 60: 2132, 25: 2011, 30: 1924, 40: 1917, 26: 1775, 35: 1707, 53: 1613, 45: 1563, 55: 1546, 70: 1517, 52: 1510, 27: 1504, 28: 1503, 80: 1496, 54: 1481, 33: 1453, 58: 1448, 43: 1439, 63: 1436, 34: 1430, 38: 1424, 32: 1423, 65: 1416, 51: 1415, 62: 1400, 46: 1394, 36: 1389, 48: 1364, 31: 1349, 57: 1348, 37: 1334, 56: 1326, 47: 1320, 83: 1305, 61: 1298, 64: 1292, 42: 1282, 85: 1256, 44: 1244, 84: 1230, 29: 1197, 75: 1189, 73: 1183, 17: 1163, 82: 1154, 78: 1137, 49: 1119, 59: 1116, 86: 1103, 74: 1095, 67: 1093, 39: 1065, 41: 1057, 76: 1056, 72: 1022, 81: 991, 66: 986, 77: 983, 68: 983, 87: 954, 88: 911, 71: 909, 79: 877, 90: 833, 16: 804, 69: 723, 89: 611, 15: 534, 14: 461, 91: 430, 13: 409, 92: 390, 2: 356, 93: 352, 12: 292, 94: 264, 3: 247, 1: 240, 11: 229, 10: 224, 95: 206, 5: 201, 8: 200, 7: 185, 6: 179, 9: 174, 4: 164, 96: 142, 97: 116, 98: 82, 99: 49, 100: 48, 101: 26, 102: 15, 104: 10, 105: 7, 103: 5, 107: 3, 0: 3, 106: 2, 220: 1})\n",
      "Counter({7701003: 18955, 20: 3523, 19: 3416, 18: 2961, 21: 2777, 22: 2417, 23: 2387, 50: 2296, 24: 2248, 60: 2185, 25: 2057, 40: 1936, 30: 1780, 26: 1695, 27: 1646, 65: 1631, 35: 1616, 55: 1605, 53: 1594, 64: 1588, 54: 1566, 45: 1551, 52: 1541, 80: 1539, 36: 1516, 34: 1498, 48: 1497, 58: 1487, 28: 1482, 56: 1478, 63: 1460, 38: 1439, 32: 1436, 62: 1428, 57: 1412, 47: 1400, 70: 1385, 44: 1349, 33: 1346, 46: 1340, 75: 1335, 61: 1327, 37: 1324, 84: 1308, 31: 1308, 74: 1304, 43: 1295, 51: 1293, 85: 1289, 41: 1210, 83: 1206, 29: 1199, 78: 1197, 59: 1196, 66: 1177, 49: 1163, 42: 1162, 73: 1158, 76: 1158, 86: 1155, 39: 1150, 72: 1142, 68: 1142, 67: 1132, 81: 1099, 87: 1064, 77: 1052, 82: 1041, 88: 1008, 17: 998, 90: 966, 71: 966, 79: 899, 69: 778, 16: 683, 89: 677, 15: 582, 91: 552, 14: 472, 92: 427, 93: 372, 2: 361, 13: 346, 12: 323, 3: 320, 1: 294, 94: 266, 95: 250, 10: 242, 4: 216, 11: 208, 8: 185, 9: 171, 5: 166, 7: 163, 6: 153, 96: 145, 97: 130, 98: 94, 100: 38, 99: 35, 101: 22, 102: 17, 103: 15, 105: 9, 104: 4, 106: 3, 107: 3, 0: 1, 211: 1, 114: 1, 108: 1, 118: 1})\n",
      "Counter({7701003: 18355, 20: 3465, 19: 3294, 21: 2819, 18: 2554, 50: 2505, 23: 2444, 22: 2423, 60: 2278, 25: 2204, 40: 2103, 24: 2087, 65: 1973, 26: 1911, 55: 1879, 28: 1735, 53: 1704, 35: 1690, 80: 1638, 45: 1632, 52: 1624, 58: 1614, 30: 1608, 64: 1570, 57: 1564, 63: 1562, 51: 1527, 48: 1525, 62: 1480, 54: 1478, 70: 1478, 27: 1467, 61: 1462, 66: 1455, 32: 1452, 56: 1446, 34: 1437, 33: 1420, 38: 1419, 75: 1396, 37: 1381, 36: 1368, 47: 1334, 42: 1317, 85: 1302, 68: 1300, 46: 1298, 43: 1283, 31: 1274, 78: 1268, 29: 1266, 76: 1242, 49: 1240, 59: 1228, 84: 1226, 73: 1214, 86: 1212, 67: 1209, 41: 1206, 44: 1203, 39: 1196, 83: 1186, 74: 1176, 82: 1172, 88: 1152, 77: 1144, 81: 1112, 72: 1101, 87: 1094, 79: 1034, 69: 1002, 90: 979, 17: 964, 71: 919, 16: 855, 89: 770, 91: 608, 15: 550, 92: 531, 93: 447, 14: 392, 2: 372, 1: 364, 3: 331, 13: 327, 94: 295, 95: 283, 12: 267, 4: 216, 5: 212, 11: 205, 8: 186, 9: 185, 10: 180, 7: 175, 96: 173, 6: 166, 97: 110, 98: 97, 99: 56, 100: 46, 101: 20, 102: 14, 106: 12, 103: 10, 0: 6, 104: 4, 108: 1, 414: 1, 227: 1, -53: 1, 487: 1})\n",
      "Counter({7701003: 17391, 20: 3494, 21: 2964, 19: 2927, 22: 2664, 18: 2570, 23: 2523, 50: 2337, 60: 2334, 25: 2265, 24: 2202, 26: 1950, 40: 1912, 30: 1846, 65: 1836, 55: 1801, 70: 1755, 27: 1746, 80: 1671, 56: 1662, 58: 1649, 53: 1629, 28: 1616, 63: 1587, 66: 1580, 62: 1564, 35: 1558, 64: 1550, 54: 1535, 61: 1525, 36: 1521, 57: 1516, 52: 1514, 45: 1466, 67: 1456, 48: 1405, 32: 1404, 76: 1394, 33: 1385, 51: 1385, 34: 1379, 46: 1371, 75: 1370, 38: 1369, 29: 1349, 68: 1348, 37: 1340, 41: 1324, 47: 1307, 42: 1305, 85: 1249, 59: 1248, 86: 1241, 82: 1234, 78: 1231, 49: 1230, 44: 1225, 43: 1219, 90: 1218, 74: 1198, 73: 1198, 77: 1190, 84: 1186, 81: 1164, 31: 1162, 83: 1149, 39: 1136, 87: 1085, 88: 1052, 72: 1038, 17: 996, 69: 987, 71: 980, 79: 929, 16: 804, 89: 783, 92: 684, 91: 649, 15: 510, 93: 447, 14: 358, 2: 352, 94: 322, 1: 317, 95: 315, 13: 303, 3: 286, 12: 284, 10: 232, 4: 232, 96: 208, 11: 201, 6: 195, 5: 188, 8: 168, 9: 157, 97: 141, 7: 136, 98: 112, 100: 69, 99: 41, 101: 20, 102: 15, 103: 11, 105: 5, 104: 3, 107: 3, 106: 2, 0: 2, 647: 1, 313: 1, 222: 1})\n",
      "Counter({7701003: 17274, 20: 3192, 19: 2881, 21: 2876, 22: 2686, 18: 2635, 23: 2482, 24: 2373, 25: 2353, 60: 2349, 50: 2253, 40: 1956, 70: 1906, 30: 1893, 65: 1876, 26: 1875, 80: 1811, 55: 1790, 67: 1760, 27: 1747, 28: 1744, 56: 1710, 57: 1646, 62: 1622, 68: 1608, 63: 1580, 52: 1573, 35: 1570, 66: 1556, 58: 1556, 54: 1551, 64: 1534, 36: 1486, 38: 1467, 42: 1443, 53: 1439, 45: 1418, 37: 1409, 34: 1406, 48: 1399, 47: 1366, 29: 1365, 61: 1352, 76: 1328, 75: 1325, 51: 1306, 77: 1279, 78: 1269, 43: 1266, 32: 1252, 85: 1230, 41: 1229, 33: 1225, 46: 1221, 74: 1208, 59: 1196, 82: 1190, 81: 1188, 83: 1187, 39: 1187, 86: 1185, 90: 1183, 69: 1175, 72: 1174, 31: 1172, 49: 1152, 87: 1141, 73: 1114, 71: 1076, 84: 1074, 88: 1068, 44: 1056, 79: 1010, 17: 946, 89: 765, 91: 739, 16: 703, 92: 625, 93: 501, 15: 447, 2: 374, 94: 370, 1: 344, 14: 322, 3: 310, 13: 271, 95: 253, 4: 246, 12: 238, 5: 216, 96: 211, 11: 208, 10: 207, 6: 193, 7: 184, 97: 177, 9: 157, 8: 148, 98: 115, 99: 61, 100: 44, 101: 23, 102: 18, 103: 13, 105: 8, 104: 5, 0: 3, 858: 1, 106: 1, 335: 1})\n",
      "Counter({7701003: 16091, 20: 3124, 19: 3089, 18: 2704, 22: 2664, 21: 2615, 23: 2419, 60: 2383, 24: 2357, 25: 2250, 50: 2226, 70: 2105, 40: 2066, 26: 1957, 68: 1898, 80: 1894, 65: 1865, 55: 1842, 30: 1833, 28: 1793, 58: 1780, 56: 1702, 27: 1702, 67: 1641, 64: 1628, 63: 1620, 57: 1595, 62: 1584, 54: 1562, 66: 1528, 38: 1518, 29: 1503, 53: 1488, 78: 1478, 37: 1467, 61: 1466, 52: 1448, 36: 1443, 35: 1437, 51: 1415, 42: 1394, 48: 1386, 43: 1358, 59: 1357, 76: 1356, 75: 1351, 69: 1349, 45: 1348, 31: 1335, 34: 1321, 72: 1318, 82: 1308, 77: 1301, 32: 1292, 71: 1282, 41: 1257, 81: 1254, 46: 1238, 85: 1237, 47: 1225, 83: 1222, 33: 1173, 73: 1172, 84: 1167, 90: 1164, 39: 1157, 88: 1145, 86: 1137, 44: 1136, 49: 1113, 74: 1075, 87: 1027, 79: 1008, 17: 983, 89: 811, 91: 795, 92: 683, 16: 643, 93: 549, 15: 470, 94: 450, 2: 365, 95: 356, 3: 327, 1: 326, 14: 325, 13: 279, 12: 253, 4: 229, 96: 218, 5: 208, 6: 192, 10: 181, 8: 180, 97: 180, 7: 174, 11: 171, 9: 152, 98: 138, 100: 64, 99: 55, 101: 33, 102: 18, 103: 16, 104: 10, 105: 7, 106: 4, 120: 1, 107: 1, 410: 1, 0: 1, 108: 1, 381: 1, 182: 1, 157: 1, 266: 1, 425: 1, 367: 1, 129: 1, 660: 1})\n",
      "Counter({7701003: 13613, 20: 3488, 19: 3331, 18: 2745, 21: 2714, 23: 2584, 22: 2535, 24: 2496, 60: 2426, 25: 2381, 50: 2235, 70: 2167, 26: 2078, 27: 2016, 65: 1989, 30: 1980, 40: 1962, 55: 1825, 28: 1787, 58: 1787, 80: 1720, 59: 1713, 68: 1706, 56: 1699, 69: 1664, 57: 1657, 29: 1648, 64: 1639, 54: 1637, 63: 1629, 66: 1604, 61: 1584, 35: 1582, 62: 1562, 67: 1562, 45: 1542, 38: 1517, 36: 1513, 37: 1492, 52: 1478, 32: 1475, 42: 1466, 72: 1459, 41: 1445, 53: 1426, 71: 1409, 44: 1396, 43: 1385, 39: 1382, 31: 1381, 78: 1380, 51: 1370, 47: 1359, 73: 1356, 46: 1318, 48: 1317, 33: 1316, 77: 1288, 81: 1283, 82: 1278, 49: 1275, 83: 1248, 79: 1248, 34: 1240, 76: 1239, 84: 1201, 75: 1187, 85: 1168, 90: 1149, 86: 1075, 74: 1069, 88: 1044, 87: 989, 89: 888, 17: 877, 91: 771, 16: 667, 92: 656, 93: 625, 94: 433, 15: 412, 14: 384, 95: 355, 1: 310, 96: 288, 2: 287, 13: 281, 3: 255, 4: 228, 12: 226, 8: 203, 5: 195, 9: 193, 10: 186, 97: 161, 6: 158, 98: 152, 11: 151, 7: 146, 99: 89, 100: 69, 101: 24, 102: 21, 103: 11, 104: 8, 105: 7, 106: 2, 137: 1, 858: 1, 135: 1, 107: 1})\n",
      "Counter({7701003: 10521, 7701001: 3828, 20: 3209, 21: 2962, 19: 2950, 60: 2925, 70: 2732, 25: 2713, 50: 2671, 24: 2589, 22: 2476, 18: 2440, 65: 2353, 23: 2330, 40: 2289, 30: 2132, 26: 2113, 55: 2106, 27: 2064, 80: 1997, 28: 1988, 72: 1945, 68: 1896, 45: 1889, 58: 1868, 67: 1868, 63: 1834, 42: 1831, 29: 1809, 71: 1801, 66: 1788, 56: 1785, 59: 1781, 57: 1770, 64: 1757, 62: 1747, 69: 1724, 61: 1707, 52: 1689, 73: 1685, 43: 1659, 53: 1641, 38: 1640, 78: 1617, 31: 1610, 54: 1598, 35: 1588, 82: 1583, 32: 1541, 48: 1536, 36: 1509, 51: 1506, 46: 1503, 75: 1497, 85: 1487, 37: 1485, 33: 1480, 47: 1480, 44: 1457, 74: 1453, 83: 1449, 41: 1435, 39: 1428, 81: 1425, 84: 1396, 34: 1375, 77: 1337, 49: 1322, 79: 1298, 90: 1294, 86: 1267, 76: 1255, 88: 1165, 87: 1156, 89: 947, 91: 928, 17: 879, 92: 850, 16: 672, 93: 672, 94: 571, 95: 461, 15: 432, 14: 367, 96: 350, 2: 289, 1: 276, 13: 259, 97: 225, 12: 222, 10: 213, 4: 203, 3: 193, 5: 190, 98: 184, 6: 182, 7: 157, 9: 157, 11: 154, 8: 146, 100: 117, 99: 107, 101: 36, 102: 30, 103: 15, 105: 9, 104: 7, 109: 3, 0: 3, 108: 2, 106: 2, 107: 1, 387: 1})\n",
      "Counter({7701001: 10790, 70: 2426, 20: 2371, 21: 2362, 60: 2359, 19: 2263, 22: 2179, 25: 2100, 50: 2050, 65: 1993, 18: 1886, 23: 1885, 71: 1881, 40: 1869, 26: 1851, 72: 1841, 80: 1835, 30: 1832, 24: 1761, 68: 1719, 73: 1716, 74: 1692, 28: 1682, 27: 1677, 61: 1673, 63: 1640, 67: 1639, 62: 1632, 55: 1626, 45: 1620, 66: 1617, 56: 1599, 58: 1545, 64: 1516, 69: 1500, 57: 1495, 83: 1491, 75: 1478, 29: 1461, 78: 1451, 82: 1437, 42: 1423, 85: 1415, 53: 1414, 54: 1385, 32: 1370, 43: 1367, 41: 1361, 31: 1355, 52: 1350, 59: 1343, 38: 1339, 84: 1324, 81: 1316, 35: 1315, 86: 1301, 46: 1246, 33: 1240, 51: 1239, 34: 1232, 48: 1223, 37: 1220, 36: 1219, 44: 1197, 47: 1191, 77: 1190, 76: 1188, 90: 1172, 79: 1155, 39: 1145, 49: 1127, 87: 1025, 88: 1025, 91: 878, 89: 789, 92: 777, 17: 686, 93: 678, 94: 516, 95: 498, 16: 471, 15: 383, 96: 372, 2: 294, 3: 274, 1: 265, 14: 262, 97: 251, 12: 207, 13: 200, 10: 198, 6: 190, 5: 189, 4: 188, 11: 179, 98: 168, 7: 155, 8: 152, 9: 121, 99: 102, 100: 99, 101: 48, 102: 44, 103: 22, 0: 16, 105: 11, 104: 6, 106: 2, 109: 1, 110: 1, 107: 1, 118: 1})\n",
      "[[1153, 1376, 3140, 43118, 27360, 49713, 0, 29811], [1254, 1289, 3256, 44886, 29348, 43869, 0, 22599], [1262, 1254, 3205, 46958, 30240, 43326, 0, 21088], [1390, 1304, 3371, 50126, 33144, 45280, 0, 20320], [1511, 1292, 3081, 50724, 34716, 45289, 0, 18955], [1667, 1198, 3088, 50658, 37257, 45880, 0, 18355], [1572, 1178, 2971, 50821, 37356, 45756, 0, 17391], [1686, 1142, 2689, 50644, 37570, 46151, 0, 17274], [1648, 1111, 2700, 50712, 38339, 46491, 0, 16091], [1433, 1105, 2621, 53877, 39461, 44134, 0, 13613], [1336, 1049, 2609, 55991, 43855, 50706, 3828, 10521], [1416, 1012, 2002, 45582, 37121, 45414, 10790, 0]]\n"
     ]
    }
   ],
   "source": [
    "for year in years:\n",
    "    mask  = age_df['year'] == int(year)\n",
    "    class_Counter = count(age_df[mask])\n",
    "    print(class_Counter)\n",
    "    type_sum = ageRange_sum(class_Counter)\n",
    "    year_type_sum.append(type_sum)\n",
    "\n",
    "print(year_type_sum)"
   ]
  },
  {
   "attachments": {},
   "cell_type": "markdown",
   "metadata": {},
   "source": [
    "### 視覺化數據"
   ]
  },
  {
   "cell_type": "code",
   "execution_count": 61,
   "metadata": {},
   "outputs": [],
   "source": [
    "import matplotlib.pyplot as plt\n",
    "import matplotlib\n",
    "import seaborn as sns\n"
   ]
  },
  {
   "attachments": {},
   "cell_type": "markdown",
   "metadata": {},
   "source": [
    "##### 12 年分佈圖"
   ]
  },
  {
   "cell_type": "code",
   "execution_count": 39,
   "metadata": {},
   "outputs": [
    {
     "name": "stdout",
     "output_type": "stream",
     "text": [
      "[[1153, 1254, 1262, 1390, 1511, 1667, 1572, 1686, 1648, 1433, 1336, 1416], [1376, 1289, 1254, 1304, 1292, 1198, 1178, 1142, 1111, 1105, 1049, 1012], [3140, 3256, 3205, 3371, 3081, 3088, 2971, 2689, 2700, 2621, 2609, 2002], [43118, 44886, 46958, 50126, 50724, 50658, 50821, 50644, 50712, 53877, 55991, 45582], [27360, 29348, 30240, 33144, 34716, 37257, 37356, 37570, 38339, 39461, 43855, 37121], [49713, 43869, 43326, 45280, 45289, 45880, 45756, 46151, 46491, 44134, 50706, 45414], [0, 0, 0, 0, 0, 0, 0, 0, 0, 0, 3828, 10790], [29811, 22599, 21088, 20320, 18955, 18355, 17391, 17274, 16091, 13613, 10521, 0]]\n"
     ]
    }
   ],
   "source": [
    "##### 行列互換\n",
    "from numpy import transpose\n",
    "\n",
    "transposed = transpose(year_type_sum).tolist()\n",
    "print(transposed)"
   ]
  },
  {
   "cell_type": "code",
   "execution_count": 53,
   "metadata": {},
   "outputs": [
    {
     "data": {
      "text/plain": [
       "[<matplotlib.lines.Line2D at 0x241d75f6310>]"
      ]
     },
     "execution_count": 53,
     "metadata": {},
     "output_type": "execute_result"
    },
    {
     "data": {
      "image/png": "[encoded data removed]",
      "text/plain": [
       "<Figure size 1200x480 with 1 Axes>"
      ]
     },
     "metadata": {},
     "output_type": "display_data"
    }
   ],
   "source": [
    "plt.figure(figsize=(15, 6), dpi=80)\n",
    "plt.plot(age_type, year_type_sum[4])\n",
    "\n"
   ]
  },
  {
   "cell_type": "code",
   "execution_count": 84,
   "metadata": {},
   "outputs": [
    {
     "data": {
      "text/plain": [
       "<BarContainer object of 12 artists>"
      ]
     },
     "execution_count": 84,
     "metadata": {},
     "output_type": "execute_result"
    },
    {
     "data": {
      "image/png": "[encoded data removed]",
      "text/plain": [
       "<Figure size 2000x640 with 1 Axes>"
      ]
     },
     "metadata": {},
     "output_type": "display_data"
    }
   ],
   "source": [
    "width=0.1\n",
    "\n",
    "\n",
    "plt.figure(figsize=(25, 8), dpi=80)\n",
    "x1 = [int(year) for year in years]        #X 軸 (第一組)\n",
    "\n",
    "y1 = transposed[0]                 #Y 軸1=0056殖利率\n",
    "\n",
    "x2 = [p + width for p in x1]                        #X 軸 (第二組)\n",
    "y2 = transposed[1]                    #Y 軸2=0050殖利率\n",
    "\n",
    "x3 = [p+ 2*width for p in x1]                     #X 軸 (第三組)\n",
    "y3 = transposed[2]                     #Y 軸3=0052殖利率\n",
    "\n",
    "x4 = [p + 3*width for p in x1]             #X 軸 (第一組)\n",
    "y4 = transposed[3]                 #Y 軸1=0056殖利率\n",
    "\n",
    "x5 = [p + 4*width for p in x1]                        #X 軸 (第二組)\n",
    "y5 = transposed[4]                    #Y 軸2=0050殖利率\n",
    " \n",
    "x6 = [p + 5*width for p in x1]                     #X 軸 (第三組)\n",
    "y6 = transposed[5]                     #Y 軸3=0052殖利率\n",
    "\n",
    "x7 = [p + 6*width for p in x1]          #X 軸 (第一組)\n",
    "y7 = transposed[6]                 #Y 軸1=0056殖利率\n",
    "\n",
    "x8 = [p + 7*width for p in x1]                        #X 軸 (第二組)\n",
    "y8 = transposed[7]                    #Y 軸2=0050殖利率\n",
    "\n",
    "\n",
    "\n",
    "plt.bar(x1, y1, label='0-6', width=0.08)  #繪製長條圖\n",
    "plt.bar(x2, y2, label='7-12', width=0.08)  #繪製長條圖\n",
    "plt.bar(x3, y3, label='13-17', width=0.08)  #繪製長條圖\n",
    "plt.bar(x4, y4, label='18-45', width=0.08)  #繪製長條圖\n",
    "plt.bar(x5, y5, label='46-69', width=0.08)  #繪製長條圖\n",
    "plt.bar(x6, y6, label='>69', width=0.08)  #繪製長條圖\n",
    "plt.bar(x7, y7, label='001', width=0.08)  #繪製長條圖\n",
    "plt.bar(x8, y8, label='003', width=0.08)  #繪製長條圖\n",
    "plt.legend()"
   ]
  },
  {
   "cell_type": "code",
   "execution_count": 82,
   "metadata": {},
   "outputs": [
    {
     "data": {
      "text/plain": [
       "<BarContainer object of 5 artists>"
      ]
     },
     "execution_count": 82,
     "metadata": {},
     "output_type": "execute_result"
    },
    {
     "data": {
      "image/png": "[encoded data removed]",
      "text/plain": [
       "<Figure size 640x480 with 1 Axes>"
      ]
     },
     "metadata": {},
     "output_type": "display_data"
    }
   ],
   "source": [
    "width=0.25\n",
    "x1=[2015, 2016, 2017, 2018, 2019]          #X 軸 (第一組)\n",
    "y1=(4.33, 5.67, 3.78, 5.62, 6.7)                 #Y 軸1=0056殖利率\n",
    "\n",
    "x2=[p + width for p in x1]                        #X 軸 (第二組)\n",
    "y2=(3.01, 1.28, 6.1, 7.1, 7.22)                   #Y 軸2=0050殖利率\n",
    "\n",
    "x3=[p + 2*width for p in x1]                     #X 軸 (第三組)\n",
    "y3=(0, 2.44, 1.41, 1.72, 1.05)                    #Y 軸3=0052殖利率\n",
    "plt.bar(x1, y1, label='0056', width=0.25)  #繪製長條圖\n",
    "plt.bar(x2, y2, label='0050', width=0.25)  #繪製長條圖\n",
    "plt.bar(x3, y3, label='0052', width=0.25)  #繪製長條圖"
   ]
  }
 ],
 "metadata": {
  "kernelspec": {
   "display_name": "Python 3",
   "language": "python",
   "name": "python3"
  },
  "language_info": {
   "codemirror_mode": {
    "name": "ipython",
    "version": 3
   },
   "file_extension": ".py",
   "mimetype": "text/x-python",
   "name": "python",
   "nbconvert_exporter": "python",
   "pygments_lexer": "ipython3",
   "version": "3.8.10"
  },
  "orig_nbformat": 4
 },
 "nbformat": 4,
 "nbformat_minor": 2
}
