{
 "cells": [
  {
   "attachments": {},
   "cell_type": "markdown",
   "metadata": {},
   "source": [
    "##### Get floders CSV"
   ]
  },
  {
   "cell_type": "code",
   "execution_count": 1,
   "metadata": {},
   "outputs": [],
   "source": [
    "import os\n",
    "\n",
    "set_year = '2019'\n",
    "data_basic_path = '../year/'\n",
    "# - - - -  an year - - - - - \n",
    "years_files = os.listdir(data_basic_path + '{}/'.format(set_year))"
   ]
  },
  {
   "cell_type": "code",
   "execution_count": 2,
   "metadata": {},
   "outputs": [],
   "source": [
    "full_path = []\n",
    "for file in years_files:\n",
    "    full_path.append(data_basic_path + set_year + '/' + file)"
   ]
  },
  {
   "attachments": {},
   "cell_type": "markdown",
   "metadata": {},
   "source": [
    "##### Merge"
   ]
  },
  {
   "cell_type": "code",
   "execution_count": 6,
   "metadata": {},
   "outputs": [],
   "source": [
    "import pandas as pd"
   ]
  },
  {
   "cell_type": "code",
   "execution_count": 82,
   "metadata": {},
   "outputs": [
    {
     "name": "stdout",
     "output_type": "stream",
     "text": [
      "Dir Existed \n"
     ]
    },
    {
     "name": "stderr",
     "output_type": "stream",
     "text": [
      "C:\\Users\\User\\AppData\\Local\\Temp\\ipykernel_12604\\31117948.py:23: FutureWarning: Passing 'suffixes' which cause duplicate columns {'ROW_ID_x'} in the result is deprecated and will raise a MergeError in a future version.\n",
      "  result = merge.merge(file, on='eRecordT01', how='right')  #逐一基於eRecordT01欄位合併到第一個Pandas DataFrame\n"
     ]
    }
   ],
   "source": [
    "import pandas as pd\n",
    "import csv\n",
    "\n",
    "dir =  \"../merge\"\n",
    "merge_path_file = dir + \"/{}_merge.csv\".format(set_year)\n",
    "\n",
    "# 創建資料夾\n",
    "if not (os.path.exists(dir)):\n",
    "    os.makedirs(dir)\n",
    "    print(\"Dir Created \")\n",
    "else:\n",
    "    print(\"Dir Existed \")\n",
    "\n",
    "# 創建 _merge.csv 並給予 主鍵('eRecordT01')\n",
    "with open(merge_path_file, 'w') as file:\n",
    "    dw = csv.DictWriter(file, delimiter=',', fieldnames=['eRecordT01'])\n",
    "    dw.writeheader()\n",
    "\n",
    "df_list = [pd.read_csv(file, low_memory=False) for file in full_path]\n",
    "\n",
    "for file in df_list:\n",
    "    merge = pd.read_csv(merge_path_file, low_memory=False)\n",
    "    result = merge.merge(file, on='eRecordT01', how='right')  #逐一基於eRecordT01欄位合併到第一個Pandas DataFrame\n",
    "    result.to_csv(merge_path_file, index=False)"
   ]
  },
  {
   "attachments": {},
   "cell_type": "markdown",
   "metadata": {},
   "source": [
    "##### Show DataFram"
   ]
  },
  {
   "cell_type": "code",
   "execution_count": 41,
   "metadata": {},
   "outputs": [
    {
     "name": "stderr",
     "output_type": "stream",
     "text": [
      "C:\\Users\\User\\AppData\\Local\\Temp\\ipykernel_2352\\3815289236.py:1: DtypeWarning: Columns (27) have mixed types. Specify dtype option on import or set low_memory=False.\n",
      "  merge_df = pd.read_csv('../merge/2011_merge.csv')\n"
     ]
    },
    {
     "data": {
      "text/html": [
       "<div>\n",
       "<style scoped>\n",
       "    .dataframe tbody tr th:only-of-type {\n",
       "        vertical-align: middle;\n",
       "    }\n",
       "\n",
       "    .dataframe tbody tr th {\n",
       "        vertical-align: top;\n",
       "    }\n",
       "\n",
       "    .dataframe thead th {\n",
       "        text-align: right;\n",
       "    }\n",
       "</style>\n",
       "<table border=\"1\" class=\"dataframe\">\n",
       "  <thead>\n",
       "    <tr style=\"text-align: right;\">\n",
       "      <th></th>\n",
       "      <th>eRecordT01</th>\n",
       "      <th>eArrestT01</th>\n",
       "      <th>eArrestT02</th>\n",
       "      <th>eArrestT03</th>\n",
       "      <th>eArrestT04</th>\n",
       "      <th>eArrestT05</th>\n",
       "      <th>eArrestT06</th>\n",
       "      <th>eArrestT07</th>\n",
       "      <th>eArrestT08</th>\n",
       "      <th>eArrestT09</th>\n",
       "      <th>...</th>\n",
       "      <th>eVitalsT12</th>\n",
       "      <th>eVitalsT13</th>\n",
       "      <th>eVitalsT14</th>\n",
       "      <th>eVitalsT15</th>\n",
       "      <th>eVitalsT16</th>\n",
       "      <th>eVitalsT17</th>\n",
       "      <th>eVitalsT18</th>\n",
       "      <th>eVitalsT19</th>\n",
       "      <th>eVitalsT20</th>\n",
       "      <th>eVitalsT21</th>\n",
       "    </tr>\n",
       "  </thead>\n",
       "  <tbody>\n",
       "    <tr>\n",
       "      <th>0</th>\n",
       "      <td>2011010110100410000334</td>\n",
       "      <td>111001.0</td>\n",
       "      <td>NaN</td>\n",
       "      <td>NaN</td>\n",
       "      <td>112001.0</td>\n",
       "      <td>113001.0</td>\n",
       "      <td>114001.0</td>\n",
       "      <td>115001.0</td>\n",
       "      <td>7701003.0</td>\n",
       "      <td>NaN</td>\n",
       "      <td>...</td>\n",
       "      <td>NaN</td>\n",
       "      <td>91</td>\n",
       "      <td>NaN</td>\n",
       "      <td>NaN</td>\n",
       "      <td>NaN</td>\n",
       "      <td>NaN</td>\n",
       "      <td>NaN</td>\n",
       "      <td>7701003</td>\n",
       "      <td>NaN</td>\n",
       "      <td>NaN</td>\n",
       "    </tr>\n",
       "    <tr>\n",
       "      <th>1</th>\n",
       "      <td>2011010110100410000334</td>\n",
       "      <td>111001.0</td>\n",
       "      <td>NaN</td>\n",
       "      <td>NaN</td>\n",
       "      <td>112001.0</td>\n",
       "      <td>113001.0</td>\n",
       "      <td>114001.0</td>\n",
       "      <td>115001.0</td>\n",
       "      <td>7701003.0</td>\n",
       "      <td>NaN</td>\n",
       "      <td>...</td>\n",
       "      <td>NaN</td>\n",
       "      <td>91</td>\n",
       "      <td>NaN</td>\n",
       "      <td>NaN</td>\n",
       "      <td>NaN</td>\n",
       "      <td>NaN</td>\n",
       "      <td>NaN</td>\n",
       "      <td>7701003</td>\n",
       "      <td>NaN</td>\n",
       "      <td>NaN</td>\n",
       "    </tr>\n",
       "    <tr>\n",
       "      <th>2</th>\n",
       "      <td>2011010110100410000334</td>\n",
       "      <td>111001.0</td>\n",
       "      <td>NaN</td>\n",
       "      <td>NaN</td>\n",
       "      <td>112001.0</td>\n",
       "      <td>113001.0</td>\n",
       "      <td>114001.0</td>\n",
       "      <td>115001.0</td>\n",
       "      <td>7701003.0</td>\n",
       "      <td>NaN</td>\n",
       "      <td>...</td>\n",
       "      <td>NaN</td>\n",
       "      <td>91</td>\n",
       "      <td>NaN</td>\n",
       "      <td>NaN</td>\n",
       "      <td>NaN</td>\n",
       "      <td>NaN</td>\n",
       "      <td>NaN</td>\n",
       "      <td>7701003</td>\n",
       "      <td>NaN</td>\n",
       "      <td>NaN</td>\n",
       "    </tr>\n",
       "    <tr>\n",
       "      <th>3</th>\n",
       "      <td>2011010110100410000334</td>\n",
       "      <td>111001.0</td>\n",
       "      <td>NaN</td>\n",
       "      <td>NaN</td>\n",
       "      <td>112001.0</td>\n",
       "      <td>113001.0</td>\n",
       "      <td>114001.0</td>\n",
       "      <td>115001.0</td>\n",
       "      <td>7701003.0</td>\n",
       "      <td>NaN</td>\n",
       "      <td>...</td>\n",
       "      <td>NaN</td>\n",
       "      <td>91</td>\n",
       "      <td>NaN</td>\n",
       "      <td>NaN</td>\n",
       "      <td>NaN</td>\n",
       "      <td>NaN</td>\n",
       "      <td>NaN</td>\n",
       "      <td>7701003</td>\n",
       "      <td>NaN</td>\n",
       "      <td>NaN</td>\n",
       "    </tr>\n",
       "    <tr>\n",
       "      <th>4</th>\n",
       "      <td>2011010110100410000334</td>\n",
       "      <td>111001.0</td>\n",
       "      <td>NaN</td>\n",
       "      <td>NaN</td>\n",
       "      <td>112001.0</td>\n",
       "      <td>113001.0</td>\n",
       "      <td>114001.0</td>\n",
       "      <td>115001.0</td>\n",
       "      <td>7701003.0</td>\n",
       "      <td>NaN</td>\n",
       "      <td>...</td>\n",
       "      <td>NaN</td>\n",
       "      <td>91</td>\n",
       "      <td>NaN</td>\n",
       "      <td>NaN</td>\n",
       "      <td>NaN</td>\n",
       "      <td>NaN</td>\n",
       "      <td>NaN</td>\n",
       "      <td>7701003</td>\n",
       "      <td>NaN</td>\n",
       "      <td>NaN</td>\n",
       "    </tr>\n",
       "    <tr>\n",
       "      <th>...</th>\n",
       "      <td>...</td>\n",
       "      <td>...</td>\n",
       "      <td>...</td>\n",
       "      <td>...</td>\n",
       "      <td>...</td>\n",
       "      <td>...</td>\n",
       "      <td>...</td>\n",
       "      <td>...</td>\n",
       "      <td>...</td>\n",
       "      <td>...</td>\n",
       "      <td>...</td>\n",
       "      <td>...</td>\n",
       "      <td>...</td>\n",
       "      <td>...</td>\n",
       "      <td>...</td>\n",
       "      <td>...</td>\n",
       "      <td>...</td>\n",
       "      <td>...</td>\n",
       "      <td>...</td>\n",
       "      <td>...</td>\n",
       "      <td>...</td>\n",
       "    </tr>\n",
       "    <tr>\n",
       "      <th>1967651</th>\n",
       "      <td>2011123110100410916310</td>\n",
       "      <td>111001.0</td>\n",
       "      <td>NaN</td>\n",
       "      <td>NaN</td>\n",
       "      <td>112001.0</td>\n",
       "      <td>113001.0</td>\n",
       "      <td>114001.0</td>\n",
       "      <td>115001.0</td>\n",
       "      <td>7701003.0</td>\n",
       "      <td>NaN</td>\n",
       "      <td>...</td>\n",
       "      <td>NaN</td>\n",
       "      <td>7701003</td>\n",
       "      <td>NaN</td>\n",
       "      <td>NaN</td>\n",
       "      <td>NaN</td>\n",
       "      <td>NaN</td>\n",
       "      <td>NaN</td>\n",
       "      <td>7701003</td>\n",
       "      <td>NaN</td>\n",
       "      <td>NaN</td>\n",
       "    </tr>\n",
       "    <tr>\n",
       "      <th>1967652</th>\n",
       "      <td>2011123110100410916310</td>\n",
       "      <td>111001.0</td>\n",
       "      <td>NaN</td>\n",
       "      <td>NaN</td>\n",
       "      <td>112001.0</td>\n",
       "      <td>113001.0</td>\n",
       "      <td>114001.0</td>\n",
       "      <td>115001.0</td>\n",
       "      <td>7701003.0</td>\n",
       "      <td>NaN</td>\n",
       "      <td>...</td>\n",
       "      <td>NaN</td>\n",
       "      <td>7701003</td>\n",
       "      <td>NaN</td>\n",
       "      <td>NaN</td>\n",
       "      <td>NaN</td>\n",
       "      <td>NaN</td>\n",
       "      <td>NaN</td>\n",
       "      <td>7701003</td>\n",
       "      <td>NaN</td>\n",
       "      <td>NaN</td>\n",
       "    </tr>\n",
       "    <tr>\n",
       "      <th>1967653</th>\n",
       "      <td>2011123110100410916310</td>\n",
       "      <td>111001.0</td>\n",
       "      <td>NaN</td>\n",
       "      <td>NaN</td>\n",
       "      <td>112001.0</td>\n",
       "      <td>113001.0</td>\n",
       "      <td>114001.0</td>\n",
       "      <td>115001.0</td>\n",
       "      <td>7701003.0</td>\n",
       "      <td>NaN</td>\n",
       "      <td>...</td>\n",
       "      <td>NaN</td>\n",
       "      <td>7701003</td>\n",
       "      <td>NaN</td>\n",
       "      <td>NaN</td>\n",
       "      <td>NaN</td>\n",
       "      <td>NaN</td>\n",
       "      <td>NaN</td>\n",
       "      <td>7701003</td>\n",
       "      <td>NaN</td>\n",
       "      <td>NaN</td>\n",
       "    </tr>\n",
       "    <tr>\n",
       "      <th>1967654</th>\n",
       "      <td>2011123110100410916310</td>\n",
       "      <td>111001.0</td>\n",
       "      <td>NaN</td>\n",
       "      <td>NaN</td>\n",
       "      <td>112001.0</td>\n",
       "      <td>113001.0</td>\n",
       "      <td>114001.0</td>\n",
       "      <td>115001.0</td>\n",
       "      <td>7701003.0</td>\n",
       "      <td>NaN</td>\n",
       "      <td>...</td>\n",
       "      <td>NaN</td>\n",
       "      <td>7701003</td>\n",
       "      <td>NaN</td>\n",
       "      <td>NaN</td>\n",
       "      <td>NaN</td>\n",
       "      <td>NaN</td>\n",
       "      <td>NaN</td>\n",
       "      <td>7701003</td>\n",
       "      <td>NaN</td>\n",
       "      <td>NaN</td>\n",
       "    </tr>\n",
       "    <tr>\n",
       "      <th>1967655</th>\n",
       "      <td>2011123110100410916310</td>\n",
       "      <td>111001.0</td>\n",
       "      <td>NaN</td>\n",
       "      <td>NaN</td>\n",
       "      <td>112001.0</td>\n",
       "      <td>113001.0</td>\n",
       "      <td>114001.0</td>\n",
       "      <td>115001.0</td>\n",
       "      <td>7701003.0</td>\n",
       "      <td>NaN</td>\n",
       "      <td>...</td>\n",
       "      <td>NaN</td>\n",
       "      <td>7701003</td>\n",
       "      <td>NaN</td>\n",
       "      <td>NaN</td>\n",
       "      <td>NaN</td>\n",
       "      <td>NaN</td>\n",
       "      <td>NaN</td>\n",
       "      <td>7701003</td>\n",
       "      <td>NaN</td>\n",
       "      <td>NaN</td>\n",
       "    </tr>\n",
       "  </tbody>\n",
       "</table>\n",
       "<p>1967656 rows × 115 columns</p>\n",
       "</div>"
      ],
      "text/plain": [
       "                     eRecordT01  eArrestT01  eArrestT02  eArrestT03  \\\n",
       "0        2011010110100410000334    111001.0         NaN         NaN   \n",
       "1        2011010110100410000334    111001.0         NaN         NaN   \n",
       "2        2011010110100410000334    111001.0         NaN         NaN   \n",
       "3        2011010110100410000334    111001.0         NaN         NaN   \n",
       "4        2011010110100410000334    111001.0         NaN         NaN   \n",
       "...                         ...         ...         ...         ...   \n",
       "1967651  2011123110100410916310    111001.0         NaN         NaN   \n",
       "1967652  2011123110100410916310    111001.0         NaN         NaN   \n",
       "1967653  2011123110100410916310    111001.0         NaN         NaN   \n",
       "1967654  2011123110100410916310    111001.0         NaN         NaN   \n",
       "1967655  2011123110100410916310    111001.0         NaN         NaN   \n",
       "\n",
       "         eArrestT04  eArrestT05  eArrestT06  eArrestT07  eArrestT08  \\\n",
       "0          112001.0    113001.0    114001.0    115001.0   7701003.0   \n",
       "1          112001.0    113001.0    114001.0    115001.0   7701003.0   \n",
       "2          112001.0    113001.0    114001.0    115001.0   7701003.0   \n",
       "3          112001.0    113001.0    114001.0    115001.0   7701003.0   \n",
       "4          112001.0    113001.0    114001.0    115001.0   7701003.0   \n",
       "...             ...         ...         ...         ...         ...   \n",
       "1967651    112001.0    113001.0    114001.0    115001.0   7701003.0   \n",
       "1967652    112001.0    113001.0    114001.0    115001.0   7701003.0   \n",
       "1967653    112001.0    113001.0    114001.0    115001.0   7701003.0   \n",
       "1967654    112001.0    113001.0    114001.0    115001.0   7701003.0   \n",
       "1967655    112001.0    113001.0    114001.0    115001.0   7701003.0   \n",
       "\n",
       "         eArrestT09  ...  eVitalsT12  eVitalsT13  eVitalsT14  eVitalsT15  \\\n",
       "0               NaN  ...         NaN          91         NaN         NaN   \n",
       "1               NaN  ...         NaN          91         NaN         NaN   \n",
       "2               NaN  ...         NaN          91         NaN         NaN   \n",
       "3               NaN  ...         NaN          91         NaN         NaN   \n",
       "4               NaN  ...         NaN          91         NaN         NaN   \n",
       "...             ...  ...         ...         ...         ...         ...   \n",
       "1967651         NaN  ...         NaN     7701003         NaN         NaN   \n",
       "1967652         NaN  ...         NaN     7701003         NaN         NaN   \n",
       "1967653         NaN  ...         NaN     7701003         NaN         NaN   \n",
       "1967654         NaN  ...         NaN     7701003         NaN         NaN   \n",
       "1967655         NaN  ...         NaN     7701003         NaN         NaN   \n",
       "\n",
       "         eVitalsT16 eVitalsT17  eVitalsT18  eVitalsT19  eVitalsT20  eVitalsT21  \n",
       "0               NaN        NaN         NaN     7701003         NaN         NaN  \n",
       "1               NaN        NaN         NaN     7701003         NaN         NaN  \n",
       "2               NaN        NaN         NaN     7701003         NaN         NaN  \n",
       "3               NaN        NaN         NaN     7701003         NaN         NaN  \n",
       "4               NaN        NaN         NaN     7701003         NaN         NaN  \n",
       "...             ...        ...         ...         ...         ...         ...  \n",
       "1967651         NaN        NaN         NaN     7701003         NaN         NaN  \n",
       "1967652         NaN        NaN         NaN     7701003         NaN         NaN  \n",
       "1967653         NaN        NaN         NaN     7701003         NaN         NaN  \n",
       "1967654         NaN        NaN         NaN     7701003         NaN         NaN  \n",
       "1967655         NaN        NaN         NaN     7701003         NaN         NaN  \n",
       "\n",
       "[1967656 rows x 115 columns]"
      ]
     },
     "execution_count": 41,
     "metadata": {},
     "output_type": "execute_result"
    }
   ],
   "source": [
    "merge_df = pd.read_csv('../merge/2011_merge.csv')\n",
    "merge_df"
   ]
  },
  {
   "attachments": {},
   "cell_type": "markdown",
   "metadata": {},
   "source": [
    "#####  12 Year Concat"
   ]
  },
  {
   "cell_type": "code",
   "execution_count": 13,
   "metadata": {},
   "outputs": [
    {
     "name": "stdout",
     "output_type": "stream",
     "text": [
      "['12_year_concat.csv', '2011_merge.csv', '2012_merge.csv', '2013_merge.csv', '2014_merge.csv', '2015_merge.csv', '2016_merge.csv', '2017_merge.csv', '2018_merge.csv', '2019_merge.csv', '2020_merge.csv', '2021_merge.csv', '2022_merge.csv']\n"
     ]
    }
   ],
   "source": [
    "# 設定存放路徑\n",
    "merge_data_path = '../merge/'\n",
    "# - - - -  an year - - - - - \n",
    "merge_years_files = os.listdir(merge_data_path)"
   ]
  },
  {
   "cell_type": "code",
   "execution_count": 86,
   "metadata": {},
   "outputs": [],
   "source": [
    "merge_path = [] #所有檔案的路徑位置\n",
    "\n",
    "for file in merge_years_files:\n",
    "    merge_path.append(merge_data_path + file)\n",
    "\n",
    "df = pd.DataFrame()\n",
    "for file in merge_path:\n",
    "    data = pd.read_csv(file, low_memory=False)\n",
    "    df = pd.concat([df, data], axis=0)\n",
    "\n",
    "concat_path_file = dir + \"/{}_concat.csv\".format('10year')\n",
    "df.to_csv(concat_path_file, index=False)"
   ]
  },
  {
   "attachments": {},
   "cell_type": "markdown",
   "metadata": {},
   "source": [
    "##### Plt Show"
   ]
  },
  {
   "cell_type": "code",
   "execution_count": 3,
   "metadata": {},
   "outputs": [],
   "source": [
    "import matplotlib.pyplot as plt"
   ]
  },
  {
   "cell_type": "code",
   "execution_count": null,
   "metadata": {},
   "outputs": [],
   "source": [
    "# 總比數\n",
    "column = []\n",
    "row = []\n",
    "years = os.listdir(data_basic_path)\n",
    "for data in years:\n",
    "    print(data)\n",
    "    df = pd.read_csv('../merge/{}_merge.csv'.format(data), low_memory=False)\n",
    "    column.append(df.shape[0])\n",
    "    row.append(df.shape[1])\n",
    "    # print(shape)"
   ]
  },
  {
   "cell_type": "code",
   "execution_count": 12,
   "metadata": {},
   "outputs": [
    {
     "name": "stdout",
     "output_type": "stream",
     "text": [
      "[1967656, 1973721, 1942955, 2045504, 2090423, 1924589, 1889724, 1877103, 976847, 1459388, 1489835, 605225] [115, 115, 115, 115, 115, 115, 115, 115, 128, 128, 128, 128]\n"
     ]
    }
   ],
   "source": [
    "print(column, row)"
   ]
  },
  {
   "cell_type": "code",
   "execution_count": 27,
   "metadata": {},
   "outputs": [
    {
     "data": {
      "text/plain": [
       "<BarContainer object of 12 artists>"
      ]
     },
     "execution_count": 27,
     "metadata": {},
     "output_type": "execute_result"
    },
    {
     "data": {
      "image/png": "[encoded data removed]",
      "text/plain": [
       "<Figure size 640x480 with 1 Axes>"
      ]
     },
     "metadata": {},
     "output_type": "display_data"
    }
   ],
   "source": [
    "width = 0.4\n",
    "plt.ylabel('r o w')\n",
    "plt.bar(years, row, width, color='b', label='row')  # 第一組數據靠左邊緣對齊"
   ]
  },
  {
   "cell_type": "code",
   "execution_count": 29,
   "metadata": {},
   "outputs": [
    {
     "data": {
      "text/plain": [
       "Text(0, 0.5, 'Column')"
      ]
     },
     "execution_count": 29,
     "metadata": {},
     "output_type": "execute_result"
    },
    {
     "data": {
      "image/png": "[encoded data removed]",
      "text/plain": [
       "<Figure size 640x480 with 1 Axes>"
      ]
     },
     "metadata": {},
     "output_type": "display_data"
    }
   ],
   "source": [
    "plt.bar(years , column,width, color='r', label='column')              # 第二組數據置中對齊\n",
    "plt.ylabel('Column')"
   ]
  },
  {
   "attachments": {},
   "cell_type": "markdown",
   "metadata": {},
   "source": [
    "##### 年齡分佈"
   ]
  },
  {
   "cell_type": "code",
   "execution_count": null,
   "metadata": {},
   "outputs": [],
   "source": [
    "concat_df = pd.read_csv('../merge/12_year_concat.csv', low_memory=False)"
   ]
  }
 ],
 "metadata": {
  "kernelspec": {
   "display_name": "Python 3",
   "language": "python",
   "name": "python3"
  },
  "language_info": {
   "codemirror_mode": {
    "name": "ipython",
    "version": 3
   },
   "file_extension": ".py",
   "mimetype": "text/x-python",
   "name": "python",
   "nbconvert_exporter": "python",
   "pygments_lexer": "ipython3",
   "version": "3.8.10"
  },
  "orig_nbformat": 4,
  "vscode": {
   "interpreter": {
    "hash": "f544ce1a915a9875fad91c894e2c0bcad4b7a79945aa6027ef3ad27810072aa6"
   }
  }
 },
 "nbformat": 4,
 "nbformat_minor": 2
}
